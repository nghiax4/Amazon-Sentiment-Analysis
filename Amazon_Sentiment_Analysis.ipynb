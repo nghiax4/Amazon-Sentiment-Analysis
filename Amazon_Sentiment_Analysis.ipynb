{
  "cells": [
    {
      "cell_type": "markdown",
      "metadata": {
        "id": "view-in-github",
        "colab_type": "text"
      },
      "source": [
        "<a href=\"https://colab.research.google.com/github/nghiax4/Amazon-Sentiment-Analysis/blob/main/Amazon_Sentiment_Analysis.ipynb\" target=\"_parent\"><img src=\"https://colab.research.google.com/assets/colab-badge.svg\" alt=\"Open In Colab\"/></a>"
      ]
    },
    {
      "cell_type": "markdown",
      "metadata": {
        "id": "UXCNq1vp13OB"
      },
      "source": [
        "# Download dataset"
      ]
    },
    {
      "cell_type": "code",
      "execution_count": null,
      "metadata": {
        "colab": {
          "base_uri": "https://localhost:8080/"
        },
        "id": "yDA2OFGw2Zta",
        "outputId": "08db6172-c394-46ee-b441-478b8045a7b6"
      },
      "outputs": [
        {
          "output_type": "stream",
          "name": "stdout",
          "text": [
            "Requirement already satisfied: gdown in /usr/local/lib/python3.10/dist-packages (4.7.3)\n",
            "Requirement already satisfied: filelock in /usr/local/lib/python3.10/dist-packages (from gdown) (3.13.4)\n",
            "Requirement already satisfied: requests[socks] in /usr/local/lib/python3.10/dist-packages (from gdown) (2.31.0)\n",
            "Requirement already satisfied: six in /usr/local/lib/python3.10/dist-packages (from gdown) (1.16.0)\n",
            "Requirement already satisfied: tqdm in /usr/local/lib/python3.10/dist-packages (from gdown) (4.66.2)\n",
            "Requirement already satisfied: beautifulsoup4 in /usr/local/lib/python3.10/dist-packages (from gdown) (4.12.3)\n",
            "Requirement already satisfied: soupsieve>1.2 in /usr/local/lib/python3.10/dist-packages (from beautifulsoup4->gdown) (2.5)\n",
            "Requirement already satisfied: charset-normalizer<4,>=2 in /usr/local/lib/python3.10/dist-packages (from requests[socks]->gdown) (3.3.2)\n",
            "Requirement already satisfied: idna<4,>=2.5 in /usr/local/lib/python3.10/dist-packages (from requests[socks]->gdown) (3.6)\n",
            "Requirement already satisfied: urllib3<3,>=1.21.1 in /usr/local/lib/python3.10/dist-packages (from requests[socks]->gdown) (2.0.7)\n",
            "Requirement already satisfied: certifi>=2017.4.17 in /usr/local/lib/python3.10/dist-packages (from requests[socks]->gdown) (2024.2.2)\n",
            "Requirement already satisfied: PySocks!=1.5.7,>=1.5.6 in /usr/local/lib/python3.10/dist-packages (from requests[socks]->gdown) (1.7.1)\n"
          ]
        }
      ],
      "source": [
        "!pip install gdown"
      ]
    },
    {
      "cell_type": "markdown",
      "metadata": {
        "id": "E8JctC3hz7ok"
      },
      "source": [
        "Dataset: Xiang Zhang's Google Drive dir: https://drive.google.com/drive/folders/0Bz8a_Dbh9Qhbfll6bVpmNUtUcFdjYmF2SEpmZUZUcVNiMUw1TWN6RDV3a0JHT3kxLVhVR2M: amazon_review_polarity_csv"
      ]
    },
    {
      "cell_type": "code",
      "execution_count": null,
      "metadata": {
        "id": "HJ7hHahj2Ia-",
        "colab": {
          "base_uri": "https://localhost:8080/",
          "height": 122
        },
        "outputId": "4d5a76e6-4101-42e5-f723-5bce5588f6fb"
      },
      "outputs": [
        {
          "output_type": "stream",
          "name": "stderr",
          "text": [
            "Downloading...\n",
            "From (original): https://drive.google.com/uc?id=0Bz8a_Dbh9QhbaW12WVVZS2drcnM\n",
            "From (redirected): https://drive.google.com/uc?id=0Bz8a_Dbh9QhbaW12WVVZS2drcnM&confirm=t&uuid=0213ef30-583c-49be-b7ee-df1c8480b776\n",
            "To: /content/amazon_review_polarity_csv.tgz\n",
            "100%|██████████| 688M/688M [00:07<00:00, 94.9MB/s]\n"
          ]
        },
        {
          "output_type": "execute_result",
          "data": {
            "text/plain": [
              "'amazon_review_polarity_csv.tgz'"
            ],
            "application/vnd.google.colaboratory.intrinsic+json": {
              "type": "string"
            }
          },
          "metadata": {},
          "execution_count": 46
        }
      ],
      "source": [
        "import gdown\n",
        "\n",
        "file_url = 'https://drive.google.com/uc?id=0Bz8a_Dbh9QhbaW12WVVZS2drcnM'\n",
        "file_dest = 'amazon_review_polarity_csv.tgz'\n",
        "gdown.download(file_url, file_dest, quiet=False)"
      ]
    },
    {
      "cell_type": "code",
      "execution_count": null,
      "metadata": {
        "id": "0fi9oO3Z2LwI",
        "colab": {
          "base_uri": "https://localhost:8080/"
        },
        "outputId": "a5d51641-5b91-4692-9ca5-f0e1a6dfb2bf"
      },
      "outputs": [
        {
          "output_type": "stream",
          "name": "stdout",
          "text": [
            "mkdir: cannot create directory ‘dataset’: File exists\n",
            "amazon_review_polarity_csv/\n",
            "amazon_review_polarity_csv/test.csv\n",
            "amazon_review_polarity_csv/train.csv\n",
            "amazon_review_polarity_csv/readme.txt\n"
          ]
        }
      ],
      "source": [
        "# Unzip files\n",
        "\n",
        "!mkdir dataset\n",
        "!tar -xzvf \"amazon_review_polarity_csv.tgz\" -C \"dataset\""
      ]
    },
    {
      "cell_type": "markdown",
      "metadata": {
        "id": "LgGlGJp5JsQX"
      },
      "source": [
        "# Function to standardize text"
      ]
    },
    {
      "cell_type": "code",
      "execution_count": null,
      "metadata": {
        "id": "Oc_sEH4KIKPm",
        "colab": {
          "base_uri": "https://localhost:8080/"
        },
        "outputId": "48783b39-9767-4aca-addf-bfe5f026d3d4"
      },
      "outputs": [
        {
          "output_type": "stream",
          "name": "stderr",
          "text": [
            "[nltk_data] Downloading package punkt to /root/nltk_data...\n",
            "[nltk_data]   Package punkt is already up-to-date!\n"
          ]
        },
        {
          "output_type": "execute_result",
          "data": {
            "text/plain": [
              "True"
            ]
          },
          "metadata": {},
          "execution_count": 48
        }
      ],
      "source": [
        "import pandas as pd\n",
        "import re\n",
        "from nltk import ngrams\n",
        "from sklearn import svm\n",
        "from sklearn.feature_extraction.text import TfidfVectorizer\n",
        "import joblib\n",
        "from sklearn.model_selection import train_test_split\n",
        "import os\n",
        "from sklearn.model_selection import GridSearchCV\n",
        "import nltk\n",
        "nltk.download('punkt')"
      ]
    },
    {
      "cell_type": "code",
      "execution_count": null,
      "metadata": {
        "id": "BYeyqrcLH1Cp",
        "colab": {
          "base_uri": "https://localhost:8080/"
        },
        "outputId": "531e7bf6-420e-40f5-a09a-e2a43fd1e679"
      },
      "outputs": [
        {
          "output_type": "stream",
          "name": "stdout",
          "text": [
            "Requirement already satisfied: contractions in /usr/local/lib/python3.10/dist-packages (0.1.73)\n",
            "Requirement already satisfied: textsearch>=0.0.21 in /usr/local/lib/python3.10/dist-packages (from contractions) (0.0.24)\n",
            "Requirement already satisfied: anyascii in /usr/local/lib/python3.10/dist-packages (from textsearch>=0.0.21->contractions) (0.3.2)\n",
            "Requirement already satisfied: pyahocorasick in /usr/local/lib/python3.10/dist-packages (from textsearch>=0.0.21->contractions) (2.1.0)\n"
          ]
        }
      ],
      "source": [
        "!pip install contractions\n",
        "import contractions\n",
        "\n",
        "# Standardize text data\n",
        "def standardize_data(row):\n",
        "    # Make lowercase\n",
        "    row = row.lower()\n",
        "\n",
        "    # Expand contractions\n",
        "    row = contractions.fix(row)\n",
        "\n",
        "    # Remove all symbols like question marks, exclamation marks, etc.\n",
        "    row = row.replace(\",\", \" \").replace(\".\", \" \") \\\n",
        "        .replace(\";\", \" \").replace(\"“\", \" \") \\\n",
        "        .replace(\":\", \" \").replace(\"”\", \" \") \\\n",
        "        .replace('\"', \" \").replace(\"'\", \" \") \\\n",
        "        .replace(\"!\", \" \").replace(\"?\", \" \") \\\n",
        "        .replace(\"-\", \" \").replace(\"?\", \" \")\n",
        "\n",
        "    row = row.strip()\n",
        "    return row"
      ]
    },
    {
      "cell_type": "markdown",
      "metadata": {
        "id": "d_O0lyG447J6"
      },
      "source": [
        "# Load dataset"
      ]
    },
    {
      "cell_type": "code",
      "execution_count": null,
      "metadata": {
        "id": "s8C_37Z7EMGE"
      },
      "outputs": [],
      "source": [
        "TRAIN_CSV = 'dataset/amazon_review_polarity_csv/train.csv'\n",
        "TEST_CSV = 'dataset/amazon_review_polarity_csv/test.csv'"
      ]
    },
    {
      "cell_type": "code",
      "execution_count": null,
      "metadata": {
        "id": "SdT5fDjgDbt5",
        "colab": {
          "base_uri": "https://localhost:8080/"
        },
        "outputId": "4a1c8496-ae9c-4b28-fa36-799ad10da9a2"
      },
      "outputs": [
        {
          "output_type": "stream",
          "name": "stdout",
          "text": [
            "Number of train samples:  3600000\n"
          ]
        }
      ],
      "source": [
        "import random\n",
        "\n",
        "train_samples = sum(1 for line in open(TRAIN_CSV))\n",
        "\n",
        "print('Number of train samples: ', train_samples)\n",
        "\n",
        "train_subset_samples = 10000\n",
        "\n",
        "# Only load first 10000 samples for training\n",
        "# skip = sorted(random.sample(range(1, train_samples + 1), train_samples - train_subset_samples))\n",
        "\n",
        "columns = ['label', 'title', 'content']"
      ]
    },
    {
      "cell_type": "code",
      "execution_count": null,
      "metadata": {
        "id": "ocxkc8dRFTZ-"
      },
      "outputs": [],
      "source": [
        "train_set = pd.read_csv(TRAIN_CSV, nrows = train_subset_samples, header = None, names = columns)\n",
        "test_set = pd.read_csv(TEST_CSV, header = None, names = columns)"
      ]
    },
    {
      "cell_type": "code",
      "execution_count": null,
      "metadata": {
        "id": "czSpl8fcFedu",
        "colab": {
          "base_uri": "https://localhost:8080/",
          "height": 423
        },
        "outputId": "de696b14-55c2-478d-be63-88f49cb211dc"
      },
      "outputs": [
        {
          "output_type": "execute_result",
          "data": {
            "text/plain": [
              "      label                                            content\n",
              "0         2  This sound track was beautiful! It paints the ...\n",
              "1         2  I'm reading a lot of reviews saying that this ...\n",
              "2         2  This soundtrack is my favorite music of all ti...\n",
              "3         2  I truly like this soundtrack and I enjoy video...\n",
              "4         2  If you've played the game, you know how divine...\n",
              "...     ...                                                ...\n",
              "9995      2  Though a scholarly biography, the book reveals...\n",
              "9996      2  This biography of Arthur Aull, a small-town jo...\n",
              "9997      1  You'd be hard-pressed to tell a boring story a...\n",
              "9998      1  The box looked used and it is obviously not ne...\n",
              "9999      2  The pen was shipped promptly. This is the clas...\n",
              "\n",
              "[10000 rows x 2 columns]"
            ],
            "text/html": [
              "\n",
              "  <div id=\"df-b3d78965-72a7-4824-acf3-0f325a35ebe5\" class=\"colab-df-container\">\n",
              "    <div>\n",
              "<style scoped>\n",
              "    .dataframe tbody tr th:only-of-type {\n",
              "        vertical-align: middle;\n",
              "    }\n",
              "\n",
              "    .dataframe tbody tr th {\n",
              "        vertical-align: top;\n",
              "    }\n",
              "\n",
              "    .dataframe thead th {\n",
              "        text-align: right;\n",
              "    }\n",
              "</style>\n",
              "<table border=\"1\" class=\"dataframe\">\n",
              "  <thead>\n",
              "    <tr style=\"text-align: right;\">\n",
              "      <th></th>\n",
              "      <th>label</th>\n",
              "      <th>content</th>\n",
              "    </tr>\n",
              "  </thead>\n",
              "  <tbody>\n",
              "    <tr>\n",
              "      <th>0</th>\n",
              "      <td>2</td>\n",
              "      <td>This sound track was beautiful! It paints the ...</td>\n",
              "    </tr>\n",
              "    <tr>\n",
              "      <th>1</th>\n",
              "      <td>2</td>\n",
              "      <td>I'm reading a lot of reviews saying that this ...</td>\n",
              "    </tr>\n",
              "    <tr>\n",
              "      <th>2</th>\n",
              "      <td>2</td>\n",
              "      <td>This soundtrack is my favorite music of all ti...</td>\n",
              "    </tr>\n",
              "    <tr>\n",
              "      <th>3</th>\n",
              "      <td>2</td>\n",
              "      <td>I truly like this soundtrack and I enjoy video...</td>\n",
              "    </tr>\n",
              "    <tr>\n",
              "      <th>4</th>\n",
              "      <td>2</td>\n",
              "      <td>If you've played the game, you know how divine...</td>\n",
              "    </tr>\n",
              "    <tr>\n",
              "      <th>...</th>\n",
              "      <td>...</td>\n",
              "      <td>...</td>\n",
              "    </tr>\n",
              "    <tr>\n",
              "      <th>9995</th>\n",
              "      <td>2</td>\n",
              "      <td>Though a scholarly biography, the book reveals...</td>\n",
              "    </tr>\n",
              "    <tr>\n",
              "      <th>9996</th>\n",
              "      <td>2</td>\n",
              "      <td>This biography of Arthur Aull, a small-town jo...</td>\n",
              "    </tr>\n",
              "    <tr>\n",
              "      <th>9997</th>\n",
              "      <td>1</td>\n",
              "      <td>You'd be hard-pressed to tell a boring story a...</td>\n",
              "    </tr>\n",
              "    <tr>\n",
              "      <th>9998</th>\n",
              "      <td>1</td>\n",
              "      <td>The box looked used and it is obviously not ne...</td>\n",
              "    </tr>\n",
              "    <tr>\n",
              "      <th>9999</th>\n",
              "      <td>2</td>\n",
              "      <td>The pen was shipped promptly. This is the clas...</td>\n",
              "    </tr>\n",
              "  </tbody>\n",
              "</table>\n",
              "<p>10000 rows × 2 columns</p>\n",
              "</div>\n",
              "    <div class=\"colab-df-buttons\">\n",
              "\n",
              "  <div class=\"colab-df-container\">\n",
              "    <button class=\"colab-df-convert\" onclick=\"convertToInteractive('df-b3d78965-72a7-4824-acf3-0f325a35ebe5')\"\n",
              "            title=\"Convert this dataframe to an interactive table.\"\n",
              "            style=\"display:none;\">\n",
              "\n",
              "  <svg xmlns=\"http://www.w3.org/2000/svg\" height=\"24px\" viewBox=\"0 -960 960 960\">\n",
              "    <path d=\"M120-120v-720h720v720H120Zm60-500h600v-160H180v160Zm220 220h160v-160H400v160Zm0 220h160v-160H400v160ZM180-400h160v-160H180v160Zm440 0h160v-160H620v160ZM180-180h160v-160H180v160Zm440 0h160v-160H620v160Z\"/>\n",
              "  </svg>\n",
              "    </button>\n",
              "\n",
              "  <style>\n",
              "    .colab-df-container {\n",
              "      display:flex;\n",
              "      gap: 12px;\n",
              "    }\n",
              "\n",
              "    .colab-df-convert {\n",
              "      background-color: #E8F0FE;\n",
              "      border: none;\n",
              "      border-radius: 50%;\n",
              "      cursor: pointer;\n",
              "      display: none;\n",
              "      fill: #1967D2;\n",
              "      height: 32px;\n",
              "      padding: 0 0 0 0;\n",
              "      width: 32px;\n",
              "    }\n",
              "\n",
              "    .colab-df-convert:hover {\n",
              "      background-color: #E2EBFA;\n",
              "      box-shadow: 0px 1px 2px rgba(60, 64, 67, 0.3), 0px 1px 3px 1px rgba(60, 64, 67, 0.15);\n",
              "      fill: #174EA6;\n",
              "    }\n",
              "\n",
              "    .colab-df-buttons div {\n",
              "      margin-bottom: 4px;\n",
              "    }\n",
              "\n",
              "    [theme=dark] .colab-df-convert {\n",
              "      background-color: #3B4455;\n",
              "      fill: #D2E3FC;\n",
              "    }\n",
              "\n",
              "    [theme=dark] .colab-df-convert:hover {\n",
              "      background-color: #434B5C;\n",
              "      box-shadow: 0px 1px 3px 1px rgba(0, 0, 0, 0.15);\n",
              "      filter: drop-shadow(0px 1px 2px rgba(0, 0, 0, 0.3));\n",
              "      fill: #FFFFFF;\n",
              "    }\n",
              "  </style>\n",
              "\n",
              "    <script>\n",
              "      const buttonEl =\n",
              "        document.querySelector('#df-b3d78965-72a7-4824-acf3-0f325a35ebe5 button.colab-df-convert');\n",
              "      buttonEl.style.display =\n",
              "        google.colab.kernel.accessAllowed ? 'block' : 'none';\n",
              "\n",
              "      async function convertToInteractive(key) {\n",
              "        const element = document.querySelector('#df-b3d78965-72a7-4824-acf3-0f325a35ebe5');\n",
              "        const dataTable =\n",
              "          await google.colab.kernel.invokeFunction('convertToInteractive',\n",
              "                                                    [key], {});\n",
              "        if (!dataTable) return;\n",
              "\n",
              "        const docLinkHtml = 'Like what you see? Visit the ' +\n",
              "          '<a target=\"_blank\" href=https://colab.research.google.com/notebooks/data_table.ipynb>data table notebook</a>'\n",
              "          + ' to learn more about interactive tables.';\n",
              "        element.innerHTML = '';\n",
              "        dataTable['output_type'] = 'display_data';\n",
              "        await google.colab.output.renderOutput(dataTable, element);\n",
              "        const docLink = document.createElement('div');\n",
              "        docLink.innerHTML = docLinkHtml;\n",
              "        element.appendChild(docLink);\n",
              "      }\n",
              "    </script>\n",
              "  </div>\n",
              "\n",
              "\n",
              "<div id=\"df-11fc47c8-d963-4075-8d61-a51b25984460\">\n",
              "  <button class=\"colab-df-quickchart\" onclick=\"quickchart('df-11fc47c8-d963-4075-8d61-a51b25984460')\"\n",
              "            title=\"Suggest charts\"\n",
              "            style=\"display:none;\">\n",
              "\n",
              "<svg xmlns=\"http://www.w3.org/2000/svg\" height=\"24px\"viewBox=\"0 0 24 24\"\n",
              "     width=\"24px\">\n",
              "    <g>\n",
              "        <path d=\"M19 3H5c-1.1 0-2 .9-2 2v14c0 1.1.9 2 2 2h14c1.1 0 2-.9 2-2V5c0-1.1-.9-2-2-2zM9 17H7v-7h2v7zm4 0h-2V7h2v10zm4 0h-2v-4h2v4z\"/>\n",
              "    </g>\n",
              "</svg>\n",
              "  </button>\n",
              "\n",
              "<style>\n",
              "  .colab-df-quickchart {\n",
              "      --bg-color: #E8F0FE;\n",
              "      --fill-color: #1967D2;\n",
              "      --hover-bg-color: #E2EBFA;\n",
              "      --hover-fill-color: #174EA6;\n",
              "      --disabled-fill-color: #AAA;\n",
              "      --disabled-bg-color: #DDD;\n",
              "  }\n",
              "\n",
              "  [theme=dark] .colab-df-quickchart {\n",
              "      --bg-color: #3B4455;\n",
              "      --fill-color: #D2E3FC;\n",
              "      --hover-bg-color: #434B5C;\n",
              "      --hover-fill-color: #FFFFFF;\n",
              "      --disabled-bg-color: #3B4455;\n",
              "      --disabled-fill-color: #666;\n",
              "  }\n",
              "\n",
              "  .colab-df-quickchart {\n",
              "    background-color: var(--bg-color);\n",
              "    border: none;\n",
              "    border-radius: 50%;\n",
              "    cursor: pointer;\n",
              "    display: none;\n",
              "    fill: var(--fill-color);\n",
              "    height: 32px;\n",
              "    padding: 0;\n",
              "    width: 32px;\n",
              "  }\n",
              "\n",
              "  .colab-df-quickchart:hover {\n",
              "    background-color: var(--hover-bg-color);\n",
              "    box-shadow: 0 1px 2px rgba(60, 64, 67, 0.3), 0 1px 3px 1px rgba(60, 64, 67, 0.15);\n",
              "    fill: var(--button-hover-fill-color);\n",
              "  }\n",
              "\n",
              "  .colab-df-quickchart-complete:disabled,\n",
              "  .colab-df-quickchart-complete:disabled:hover {\n",
              "    background-color: var(--disabled-bg-color);\n",
              "    fill: var(--disabled-fill-color);\n",
              "    box-shadow: none;\n",
              "  }\n",
              "\n",
              "  .colab-df-spinner {\n",
              "    border: 2px solid var(--fill-color);\n",
              "    border-color: transparent;\n",
              "    border-bottom-color: var(--fill-color);\n",
              "    animation:\n",
              "      spin 1s steps(1) infinite;\n",
              "  }\n",
              "\n",
              "  @keyframes spin {\n",
              "    0% {\n",
              "      border-color: transparent;\n",
              "      border-bottom-color: var(--fill-color);\n",
              "      border-left-color: var(--fill-color);\n",
              "    }\n",
              "    20% {\n",
              "      border-color: transparent;\n",
              "      border-left-color: var(--fill-color);\n",
              "      border-top-color: var(--fill-color);\n",
              "    }\n",
              "    30% {\n",
              "      border-color: transparent;\n",
              "      border-left-color: var(--fill-color);\n",
              "      border-top-color: var(--fill-color);\n",
              "      border-right-color: var(--fill-color);\n",
              "    }\n",
              "    40% {\n",
              "      border-color: transparent;\n",
              "      border-right-color: var(--fill-color);\n",
              "      border-top-color: var(--fill-color);\n",
              "    }\n",
              "    60% {\n",
              "      border-color: transparent;\n",
              "      border-right-color: var(--fill-color);\n",
              "    }\n",
              "    80% {\n",
              "      border-color: transparent;\n",
              "      border-right-color: var(--fill-color);\n",
              "      border-bottom-color: var(--fill-color);\n",
              "    }\n",
              "    90% {\n",
              "      border-color: transparent;\n",
              "      border-bottom-color: var(--fill-color);\n",
              "    }\n",
              "  }\n",
              "</style>\n",
              "\n",
              "  <script>\n",
              "    async function quickchart(key) {\n",
              "      const quickchartButtonEl =\n",
              "        document.querySelector('#' + key + ' button');\n",
              "      quickchartButtonEl.disabled = true;  // To prevent multiple clicks.\n",
              "      quickchartButtonEl.classList.add('colab-df-spinner');\n",
              "      try {\n",
              "        const charts = await google.colab.kernel.invokeFunction(\n",
              "            'suggestCharts', [key], {});\n",
              "      } catch (error) {\n",
              "        console.error('Error during call to suggestCharts:', error);\n",
              "      }\n",
              "      quickchartButtonEl.classList.remove('colab-df-spinner');\n",
              "      quickchartButtonEl.classList.add('colab-df-quickchart-complete');\n",
              "    }\n",
              "    (() => {\n",
              "      let quickchartButtonEl =\n",
              "        document.querySelector('#df-11fc47c8-d963-4075-8d61-a51b25984460 button');\n",
              "      quickchartButtonEl.style.display =\n",
              "        google.colab.kernel.accessAllowed ? 'block' : 'none';\n",
              "    })();\n",
              "  </script>\n",
              "</div>\n",
              "\n",
              "    </div>\n",
              "  </div>\n"
            ],
            "application/vnd.google.colaboratory.intrinsic+json": {
              "type": "dataframe",
              "summary": "{\n  \"name\": \"train_set\",\n  \"rows\": 10000,\n  \"fields\": [\n    {\n      \"column\": \"label\",\n      \"properties\": {\n        \"dtype\": \"number\",\n        \"std\": 0,\n        \"min\": 1,\n        \"max\": 2,\n        \"num_unique_values\": 2,\n        \"samples\": [\n          1,\n          2\n        ],\n        \"semantic_type\": \"\",\n        \"description\": \"\"\n      }\n    },\n    {\n      \"column\": \"content\",\n      \"properties\": {\n        \"dtype\": \"string\",\n        \"num_unique_values\": 9998,\n        \"samples\": [\n          \"The air mattress was good only for one day, after one day it started deflating and I have to inflate it every night before sleep. By the time I wake up on it the next day it has become like a water bed since it has deflated. I cannot find the hole from where it deflates.\",\n          \"Was very comfortable when I inflated it, but had deflated twice before the night was over. Boasts features like beds twice the price -- the internal 120 AC pump is handy (especially since it deflates so fast) but it is noisy,and who wants to interrupt their sleep twice a night to reinflate the bed? Not me, that's for sure. I really wish it hadn't been a leaker, I like this bed, everything about it except that.\"\n        ],\n        \"semantic_type\": \"\",\n        \"description\": \"\"\n      }\n    }\n  ]\n}"
            }
          },
          "metadata": {},
          "execution_count": 53
        }
      ],
      "source": [
        "train_set.drop(axis = 0, columns = 'title')"
      ]
    },
    {
      "cell_type": "code",
      "execution_count": null,
      "metadata": {
        "id": "Y1E0lKc2Fv24",
        "colab": {
          "base_uri": "https://localhost:8080/",
          "height": 423
        },
        "outputId": "5b66675b-7440-442e-8aa9-b580738fd287"
      },
      "outputs": [
        {
          "output_type": "execute_result",
          "data": {
            "text/plain": [
              "        label                                            content\n",
              "0           2  My lovely Pat has one of the GREAT voices of h...\n",
              "1           2  Despite the fact that I have only played a sma...\n",
              "2           1  I bought this charger in Jul 2003 and it worke...\n",
              "3           2  Check out Maha Energy's website. Their Powerex...\n",
              "4           2  Reviewed quite a bit of the combo players and ...\n",
              "...       ...                                                ...\n",
              "399995      1  We bought this Thomas for our son who is a hug...\n",
              "399996      1  My son recieved this as a birthday gift 2 mont...\n",
              "399997      1  I bought this toy for my son who loves the \"Th...\n",
              "399998      2  This is a compilation of a wide range of Mitfo...\n",
              "399999      1  This DVD will be a disappointment if you get i...\n",
              "\n",
              "[400000 rows x 2 columns]"
            ],
            "text/html": [
              "\n",
              "  <div id=\"df-22410052-04cc-4dfd-8105-2f0b146f00c5\" class=\"colab-df-container\">\n",
              "    <div>\n",
              "<style scoped>\n",
              "    .dataframe tbody tr th:only-of-type {\n",
              "        vertical-align: middle;\n",
              "    }\n",
              "\n",
              "    .dataframe tbody tr th {\n",
              "        vertical-align: top;\n",
              "    }\n",
              "\n",
              "    .dataframe thead th {\n",
              "        text-align: right;\n",
              "    }\n",
              "</style>\n",
              "<table border=\"1\" class=\"dataframe\">\n",
              "  <thead>\n",
              "    <tr style=\"text-align: right;\">\n",
              "      <th></th>\n",
              "      <th>label</th>\n",
              "      <th>content</th>\n",
              "    </tr>\n",
              "  </thead>\n",
              "  <tbody>\n",
              "    <tr>\n",
              "      <th>0</th>\n",
              "      <td>2</td>\n",
              "      <td>My lovely Pat has one of the GREAT voices of h...</td>\n",
              "    </tr>\n",
              "    <tr>\n",
              "      <th>1</th>\n",
              "      <td>2</td>\n",
              "      <td>Despite the fact that I have only played a sma...</td>\n",
              "    </tr>\n",
              "    <tr>\n",
              "      <th>2</th>\n",
              "      <td>1</td>\n",
              "      <td>I bought this charger in Jul 2003 and it worke...</td>\n",
              "    </tr>\n",
              "    <tr>\n",
              "      <th>3</th>\n",
              "      <td>2</td>\n",
              "      <td>Check out Maha Energy's website. Their Powerex...</td>\n",
              "    </tr>\n",
              "    <tr>\n",
              "      <th>4</th>\n",
              "      <td>2</td>\n",
              "      <td>Reviewed quite a bit of the combo players and ...</td>\n",
              "    </tr>\n",
              "    <tr>\n",
              "      <th>...</th>\n",
              "      <td>...</td>\n",
              "      <td>...</td>\n",
              "    </tr>\n",
              "    <tr>\n",
              "      <th>399995</th>\n",
              "      <td>1</td>\n",
              "      <td>We bought this Thomas for our son who is a hug...</td>\n",
              "    </tr>\n",
              "    <tr>\n",
              "      <th>399996</th>\n",
              "      <td>1</td>\n",
              "      <td>My son recieved this as a birthday gift 2 mont...</td>\n",
              "    </tr>\n",
              "    <tr>\n",
              "      <th>399997</th>\n",
              "      <td>1</td>\n",
              "      <td>I bought this toy for my son who loves the \"Th...</td>\n",
              "    </tr>\n",
              "    <tr>\n",
              "      <th>399998</th>\n",
              "      <td>2</td>\n",
              "      <td>This is a compilation of a wide range of Mitfo...</td>\n",
              "    </tr>\n",
              "    <tr>\n",
              "      <th>399999</th>\n",
              "      <td>1</td>\n",
              "      <td>This DVD will be a disappointment if you get i...</td>\n",
              "    </tr>\n",
              "  </tbody>\n",
              "</table>\n",
              "<p>400000 rows × 2 columns</p>\n",
              "</div>\n",
              "    <div class=\"colab-df-buttons\">\n",
              "\n",
              "  <div class=\"colab-df-container\">\n",
              "    <button class=\"colab-df-convert\" onclick=\"convertToInteractive('df-22410052-04cc-4dfd-8105-2f0b146f00c5')\"\n",
              "            title=\"Convert this dataframe to an interactive table.\"\n",
              "            style=\"display:none;\">\n",
              "\n",
              "  <svg xmlns=\"http://www.w3.org/2000/svg\" height=\"24px\" viewBox=\"0 -960 960 960\">\n",
              "    <path d=\"M120-120v-720h720v720H120Zm60-500h600v-160H180v160Zm220 220h160v-160H400v160Zm0 220h160v-160H400v160ZM180-400h160v-160H180v160Zm440 0h160v-160H620v160ZM180-180h160v-160H180v160Zm440 0h160v-160H620v160Z\"/>\n",
              "  </svg>\n",
              "    </button>\n",
              "\n",
              "  <style>\n",
              "    .colab-df-container {\n",
              "      display:flex;\n",
              "      gap: 12px;\n",
              "    }\n",
              "\n",
              "    .colab-df-convert {\n",
              "      background-color: #E8F0FE;\n",
              "      border: none;\n",
              "      border-radius: 50%;\n",
              "      cursor: pointer;\n",
              "      display: none;\n",
              "      fill: #1967D2;\n",
              "      height: 32px;\n",
              "      padding: 0 0 0 0;\n",
              "      width: 32px;\n",
              "    }\n",
              "\n",
              "    .colab-df-convert:hover {\n",
              "      background-color: #E2EBFA;\n",
              "      box-shadow: 0px 1px 2px rgba(60, 64, 67, 0.3), 0px 1px 3px 1px rgba(60, 64, 67, 0.15);\n",
              "      fill: #174EA6;\n",
              "    }\n",
              "\n",
              "    .colab-df-buttons div {\n",
              "      margin-bottom: 4px;\n",
              "    }\n",
              "\n",
              "    [theme=dark] .colab-df-convert {\n",
              "      background-color: #3B4455;\n",
              "      fill: #D2E3FC;\n",
              "    }\n",
              "\n",
              "    [theme=dark] .colab-df-convert:hover {\n",
              "      background-color: #434B5C;\n",
              "      box-shadow: 0px 1px 3px 1px rgba(0, 0, 0, 0.15);\n",
              "      filter: drop-shadow(0px 1px 2px rgba(0, 0, 0, 0.3));\n",
              "      fill: #FFFFFF;\n",
              "    }\n",
              "  </style>\n",
              "\n",
              "    <script>\n",
              "      const buttonEl =\n",
              "        document.querySelector('#df-22410052-04cc-4dfd-8105-2f0b146f00c5 button.colab-df-convert');\n",
              "      buttonEl.style.display =\n",
              "        google.colab.kernel.accessAllowed ? 'block' : 'none';\n",
              "\n",
              "      async function convertToInteractive(key) {\n",
              "        const element = document.querySelector('#df-22410052-04cc-4dfd-8105-2f0b146f00c5');\n",
              "        const dataTable =\n",
              "          await google.colab.kernel.invokeFunction('convertToInteractive',\n",
              "                                                    [key], {});\n",
              "        if (!dataTable) return;\n",
              "\n",
              "        const docLinkHtml = 'Like what you see? Visit the ' +\n",
              "          '<a target=\"_blank\" href=https://colab.research.google.com/notebooks/data_table.ipynb>data table notebook</a>'\n",
              "          + ' to learn more about interactive tables.';\n",
              "        element.innerHTML = '';\n",
              "        dataTable['output_type'] = 'display_data';\n",
              "        await google.colab.output.renderOutput(dataTable, element);\n",
              "        const docLink = document.createElement('div');\n",
              "        docLink.innerHTML = docLinkHtml;\n",
              "        element.appendChild(docLink);\n",
              "      }\n",
              "    </script>\n",
              "  </div>\n",
              "\n",
              "\n",
              "<div id=\"df-43f11039-8616-46b3-8186-5466bc02296b\">\n",
              "  <button class=\"colab-df-quickchart\" onclick=\"quickchart('df-43f11039-8616-46b3-8186-5466bc02296b')\"\n",
              "            title=\"Suggest charts\"\n",
              "            style=\"display:none;\">\n",
              "\n",
              "<svg xmlns=\"http://www.w3.org/2000/svg\" height=\"24px\"viewBox=\"0 0 24 24\"\n",
              "     width=\"24px\">\n",
              "    <g>\n",
              "        <path d=\"M19 3H5c-1.1 0-2 .9-2 2v14c0 1.1.9 2 2 2h14c1.1 0 2-.9 2-2V5c0-1.1-.9-2-2-2zM9 17H7v-7h2v7zm4 0h-2V7h2v10zm4 0h-2v-4h2v4z\"/>\n",
              "    </g>\n",
              "</svg>\n",
              "  </button>\n",
              "\n",
              "<style>\n",
              "  .colab-df-quickchart {\n",
              "      --bg-color: #E8F0FE;\n",
              "      --fill-color: #1967D2;\n",
              "      --hover-bg-color: #E2EBFA;\n",
              "      --hover-fill-color: #174EA6;\n",
              "      --disabled-fill-color: #AAA;\n",
              "      --disabled-bg-color: #DDD;\n",
              "  }\n",
              "\n",
              "  [theme=dark] .colab-df-quickchart {\n",
              "      --bg-color: #3B4455;\n",
              "      --fill-color: #D2E3FC;\n",
              "      --hover-bg-color: #434B5C;\n",
              "      --hover-fill-color: #FFFFFF;\n",
              "      --disabled-bg-color: #3B4455;\n",
              "      --disabled-fill-color: #666;\n",
              "  }\n",
              "\n",
              "  .colab-df-quickchart {\n",
              "    background-color: var(--bg-color);\n",
              "    border: none;\n",
              "    border-radius: 50%;\n",
              "    cursor: pointer;\n",
              "    display: none;\n",
              "    fill: var(--fill-color);\n",
              "    height: 32px;\n",
              "    padding: 0;\n",
              "    width: 32px;\n",
              "  }\n",
              "\n",
              "  .colab-df-quickchart:hover {\n",
              "    background-color: var(--hover-bg-color);\n",
              "    box-shadow: 0 1px 2px rgba(60, 64, 67, 0.3), 0 1px 3px 1px rgba(60, 64, 67, 0.15);\n",
              "    fill: var(--button-hover-fill-color);\n",
              "  }\n",
              "\n",
              "  .colab-df-quickchart-complete:disabled,\n",
              "  .colab-df-quickchart-complete:disabled:hover {\n",
              "    background-color: var(--disabled-bg-color);\n",
              "    fill: var(--disabled-fill-color);\n",
              "    box-shadow: none;\n",
              "  }\n",
              "\n",
              "  .colab-df-spinner {\n",
              "    border: 2px solid var(--fill-color);\n",
              "    border-color: transparent;\n",
              "    border-bottom-color: var(--fill-color);\n",
              "    animation:\n",
              "      spin 1s steps(1) infinite;\n",
              "  }\n",
              "\n",
              "  @keyframes spin {\n",
              "    0% {\n",
              "      border-color: transparent;\n",
              "      border-bottom-color: var(--fill-color);\n",
              "      border-left-color: var(--fill-color);\n",
              "    }\n",
              "    20% {\n",
              "      border-color: transparent;\n",
              "      border-left-color: var(--fill-color);\n",
              "      border-top-color: var(--fill-color);\n",
              "    }\n",
              "    30% {\n",
              "      border-color: transparent;\n",
              "      border-left-color: var(--fill-color);\n",
              "      border-top-color: var(--fill-color);\n",
              "      border-right-color: var(--fill-color);\n",
              "    }\n",
              "    40% {\n",
              "      border-color: transparent;\n",
              "      border-right-color: var(--fill-color);\n",
              "      border-top-color: var(--fill-color);\n",
              "    }\n",
              "    60% {\n",
              "      border-color: transparent;\n",
              "      border-right-color: var(--fill-color);\n",
              "    }\n",
              "    80% {\n",
              "      border-color: transparent;\n",
              "      border-right-color: var(--fill-color);\n",
              "      border-bottom-color: var(--fill-color);\n",
              "    }\n",
              "    90% {\n",
              "      border-color: transparent;\n",
              "      border-bottom-color: var(--fill-color);\n",
              "    }\n",
              "  }\n",
              "</style>\n",
              "\n",
              "  <script>\n",
              "    async function quickchart(key) {\n",
              "      const quickchartButtonEl =\n",
              "        document.querySelector('#' + key + ' button');\n",
              "      quickchartButtonEl.disabled = true;  // To prevent multiple clicks.\n",
              "      quickchartButtonEl.classList.add('colab-df-spinner');\n",
              "      try {\n",
              "        const charts = await google.colab.kernel.invokeFunction(\n",
              "            'suggestCharts', [key], {});\n",
              "      } catch (error) {\n",
              "        console.error('Error during call to suggestCharts:', error);\n",
              "      }\n",
              "      quickchartButtonEl.classList.remove('colab-df-spinner');\n",
              "      quickchartButtonEl.classList.add('colab-df-quickchart-complete');\n",
              "    }\n",
              "    (() => {\n",
              "      let quickchartButtonEl =\n",
              "        document.querySelector('#df-43f11039-8616-46b3-8186-5466bc02296b button');\n",
              "      quickchartButtonEl.style.display =\n",
              "        google.colab.kernel.accessAllowed ? 'block' : 'none';\n",
              "    })();\n",
              "  </script>\n",
              "</div>\n",
              "\n",
              "    </div>\n",
              "  </div>\n"
            ],
            "application/vnd.google.colaboratory.intrinsic+json": {
              "type": "dataframe"
            }
          },
          "metadata": {},
          "execution_count": 54
        }
      ],
      "source": [
        "test_set.drop(axis = 0, columns = 'title')"
      ]
    },
    {
      "cell_type": "code",
      "execution_count": null,
      "metadata": {
        "id": "w_mDfiizaRWx"
      },
      "outputs": [],
      "source": [
        "# Convert label [1, 2] to [1, 0] (1 is negative, 0 is positive)\n",
        "\n",
        "train_set['label'] = train_set['label'] - 1\n",
        "train_set['label'] = 1 - train_set['label']"
      ]
    },
    {
      "cell_type": "code",
      "execution_count": null,
      "metadata": {
        "id": "YUyWijfFemt1",
        "colab": {
          "base_uri": "https://localhost:8080/",
          "height": 423
        },
        "outputId": "9fc97fee-06d7-4fcf-ec29-9325f8ec142d"
      },
      "outputs": [
        {
          "output_type": "execute_result",
          "data": {
            "text/plain": [
              "      label                                              title  \\\n",
              "0         0                     Stuning even for the non-gamer   \n",
              "1         0              The best soundtrack ever to anything.   \n",
              "2         0                                           Amazing!   \n",
              "3         0                               Excellent Soundtrack   \n",
              "4         0  Remember, Pull Your Jaw Off The Floor After He...   \n",
              "...     ...                                                ...   \n",
              "9995      0  A revelation of life in small town America in ...   \n",
              "9996      0   Great biography of a very interesting journalist   \n",
              "9997      1             Interesting Subject; Poor Presentation   \n",
              "9998      1                                          Don't buy   \n",
              "9999      0                   Beautiful Pen and Fast Delivery.   \n",
              "\n",
              "                                                content  \n",
              "0     This sound track was beautiful! It paints the ...  \n",
              "1     I'm reading a lot of reviews saying that this ...  \n",
              "2     This soundtrack is my favorite music of all ti...  \n",
              "3     I truly like this soundtrack and I enjoy video...  \n",
              "4     If you've played the game, you know how divine...  \n",
              "...                                                 ...  \n",
              "9995  Though a scholarly biography, the book reveals...  \n",
              "9996  This biography of Arthur Aull, a small-town jo...  \n",
              "9997  You'd be hard-pressed to tell a boring story a...  \n",
              "9998  The box looked used and it is obviously not ne...  \n",
              "9999  The pen was shipped promptly. This is the clas...  \n",
              "\n",
              "[10000 rows x 3 columns]"
            ],
            "text/html": [
              "\n",
              "  <div id=\"df-f5fa3e05-c8e1-4918-b892-bfa7c3ec14fe\" class=\"colab-df-container\">\n",
              "    <div>\n",
              "<style scoped>\n",
              "    .dataframe tbody tr th:only-of-type {\n",
              "        vertical-align: middle;\n",
              "    }\n",
              "\n",
              "    .dataframe tbody tr th {\n",
              "        vertical-align: top;\n",
              "    }\n",
              "\n",
              "    .dataframe thead th {\n",
              "        text-align: right;\n",
              "    }\n",
              "</style>\n",
              "<table border=\"1\" class=\"dataframe\">\n",
              "  <thead>\n",
              "    <tr style=\"text-align: right;\">\n",
              "      <th></th>\n",
              "      <th>label</th>\n",
              "      <th>title</th>\n",
              "      <th>content</th>\n",
              "    </tr>\n",
              "  </thead>\n",
              "  <tbody>\n",
              "    <tr>\n",
              "      <th>0</th>\n",
              "      <td>0</td>\n",
              "      <td>Stuning even for the non-gamer</td>\n",
              "      <td>This sound track was beautiful! It paints the ...</td>\n",
              "    </tr>\n",
              "    <tr>\n",
              "      <th>1</th>\n",
              "      <td>0</td>\n",
              "      <td>The best soundtrack ever to anything.</td>\n",
              "      <td>I'm reading a lot of reviews saying that this ...</td>\n",
              "    </tr>\n",
              "    <tr>\n",
              "      <th>2</th>\n",
              "      <td>0</td>\n",
              "      <td>Amazing!</td>\n",
              "      <td>This soundtrack is my favorite music of all ti...</td>\n",
              "    </tr>\n",
              "    <tr>\n",
              "      <th>3</th>\n",
              "      <td>0</td>\n",
              "      <td>Excellent Soundtrack</td>\n",
              "      <td>I truly like this soundtrack and I enjoy video...</td>\n",
              "    </tr>\n",
              "    <tr>\n",
              "      <th>4</th>\n",
              "      <td>0</td>\n",
              "      <td>Remember, Pull Your Jaw Off The Floor After He...</td>\n",
              "      <td>If you've played the game, you know how divine...</td>\n",
              "    </tr>\n",
              "    <tr>\n",
              "      <th>...</th>\n",
              "      <td>...</td>\n",
              "      <td>...</td>\n",
              "      <td>...</td>\n",
              "    </tr>\n",
              "    <tr>\n",
              "      <th>9995</th>\n",
              "      <td>0</td>\n",
              "      <td>A revelation of life in small town America in ...</td>\n",
              "      <td>Though a scholarly biography, the book reveals...</td>\n",
              "    </tr>\n",
              "    <tr>\n",
              "      <th>9996</th>\n",
              "      <td>0</td>\n",
              "      <td>Great biography of a very interesting journalist</td>\n",
              "      <td>This biography of Arthur Aull, a small-town jo...</td>\n",
              "    </tr>\n",
              "    <tr>\n",
              "      <th>9997</th>\n",
              "      <td>1</td>\n",
              "      <td>Interesting Subject; Poor Presentation</td>\n",
              "      <td>You'd be hard-pressed to tell a boring story a...</td>\n",
              "    </tr>\n",
              "    <tr>\n",
              "      <th>9998</th>\n",
              "      <td>1</td>\n",
              "      <td>Don't buy</td>\n",
              "      <td>The box looked used and it is obviously not ne...</td>\n",
              "    </tr>\n",
              "    <tr>\n",
              "      <th>9999</th>\n",
              "      <td>0</td>\n",
              "      <td>Beautiful Pen and Fast Delivery.</td>\n",
              "      <td>The pen was shipped promptly. This is the clas...</td>\n",
              "    </tr>\n",
              "  </tbody>\n",
              "</table>\n",
              "<p>10000 rows × 3 columns</p>\n",
              "</div>\n",
              "    <div class=\"colab-df-buttons\">\n",
              "\n",
              "  <div class=\"colab-df-container\">\n",
              "    <button class=\"colab-df-convert\" onclick=\"convertToInteractive('df-f5fa3e05-c8e1-4918-b892-bfa7c3ec14fe')\"\n",
              "            title=\"Convert this dataframe to an interactive table.\"\n",
              "            style=\"display:none;\">\n",
              "\n",
              "  <svg xmlns=\"http://www.w3.org/2000/svg\" height=\"24px\" viewBox=\"0 -960 960 960\">\n",
              "    <path d=\"M120-120v-720h720v720H120Zm60-500h600v-160H180v160Zm220 220h160v-160H400v160Zm0 220h160v-160H400v160ZM180-400h160v-160H180v160Zm440 0h160v-160H620v160ZM180-180h160v-160H180v160Zm440 0h160v-160H620v160Z\"/>\n",
              "  </svg>\n",
              "    </button>\n",
              "\n",
              "  <style>\n",
              "    .colab-df-container {\n",
              "      display:flex;\n",
              "      gap: 12px;\n",
              "    }\n",
              "\n",
              "    .colab-df-convert {\n",
              "      background-color: #E8F0FE;\n",
              "      border: none;\n",
              "      border-radius: 50%;\n",
              "      cursor: pointer;\n",
              "      display: none;\n",
              "      fill: #1967D2;\n",
              "      height: 32px;\n",
              "      padding: 0 0 0 0;\n",
              "      width: 32px;\n",
              "    }\n",
              "\n",
              "    .colab-df-convert:hover {\n",
              "      background-color: #E2EBFA;\n",
              "      box-shadow: 0px 1px 2px rgba(60, 64, 67, 0.3), 0px 1px 3px 1px rgba(60, 64, 67, 0.15);\n",
              "      fill: #174EA6;\n",
              "    }\n",
              "\n",
              "    .colab-df-buttons div {\n",
              "      margin-bottom: 4px;\n",
              "    }\n",
              "\n",
              "    [theme=dark] .colab-df-convert {\n",
              "      background-color: #3B4455;\n",
              "      fill: #D2E3FC;\n",
              "    }\n",
              "\n",
              "    [theme=dark] .colab-df-convert:hover {\n",
              "      background-color: #434B5C;\n",
              "      box-shadow: 0px 1px 3px 1px rgba(0, 0, 0, 0.15);\n",
              "      filter: drop-shadow(0px 1px 2px rgba(0, 0, 0, 0.3));\n",
              "      fill: #FFFFFF;\n",
              "    }\n",
              "  </style>\n",
              "\n",
              "    <script>\n",
              "      const buttonEl =\n",
              "        document.querySelector('#df-f5fa3e05-c8e1-4918-b892-bfa7c3ec14fe button.colab-df-convert');\n",
              "      buttonEl.style.display =\n",
              "        google.colab.kernel.accessAllowed ? 'block' : 'none';\n",
              "\n",
              "      async function convertToInteractive(key) {\n",
              "        const element = document.querySelector('#df-f5fa3e05-c8e1-4918-b892-bfa7c3ec14fe');\n",
              "        const dataTable =\n",
              "          await google.colab.kernel.invokeFunction('convertToInteractive',\n",
              "                                                    [key], {});\n",
              "        if (!dataTable) return;\n",
              "\n",
              "        const docLinkHtml = 'Like what you see? Visit the ' +\n",
              "          '<a target=\"_blank\" href=https://colab.research.google.com/notebooks/data_table.ipynb>data table notebook</a>'\n",
              "          + ' to learn more about interactive tables.';\n",
              "        element.innerHTML = '';\n",
              "        dataTable['output_type'] = 'display_data';\n",
              "        await google.colab.output.renderOutput(dataTable, element);\n",
              "        const docLink = document.createElement('div');\n",
              "        docLink.innerHTML = docLinkHtml;\n",
              "        element.appendChild(docLink);\n",
              "      }\n",
              "    </script>\n",
              "  </div>\n",
              "\n",
              "\n",
              "<div id=\"df-cf9516ab-3614-4ad5-b940-26033c4e508d\">\n",
              "  <button class=\"colab-df-quickchart\" onclick=\"quickchart('df-cf9516ab-3614-4ad5-b940-26033c4e508d')\"\n",
              "            title=\"Suggest charts\"\n",
              "            style=\"display:none;\">\n",
              "\n",
              "<svg xmlns=\"http://www.w3.org/2000/svg\" height=\"24px\"viewBox=\"0 0 24 24\"\n",
              "     width=\"24px\">\n",
              "    <g>\n",
              "        <path d=\"M19 3H5c-1.1 0-2 .9-2 2v14c0 1.1.9 2 2 2h14c1.1 0 2-.9 2-2V5c0-1.1-.9-2-2-2zM9 17H7v-7h2v7zm4 0h-2V7h2v10zm4 0h-2v-4h2v4z\"/>\n",
              "    </g>\n",
              "</svg>\n",
              "  </button>\n",
              "\n",
              "<style>\n",
              "  .colab-df-quickchart {\n",
              "      --bg-color: #E8F0FE;\n",
              "      --fill-color: #1967D2;\n",
              "      --hover-bg-color: #E2EBFA;\n",
              "      --hover-fill-color: #174EA6;\n",
              "      --disabled-fill-color: #AAA;\n",
              "      --disabled-bg-color: #DDD;\n",
              "  }\n",
              "\n",
              "  [theme=dark] .colab-df-quickchart {\n",
              "      --bg-color: #3B4455;\n",
              "      --fill-color: #D2E3FC;\n",
              "      --hover-bg-color: #434B5C;\n",
              "      --hover-fill-color: #FFFFFF;\n",
              "      --disabled-bg-color: #3B4455;\n",
              "      --disabled-fill-color: #666;\n",
              "  }\n",
              "\n",
              "  .colab-df-quickchart {\n",
              "    background-color: var(--bg-color);\n",
              "    border: none;\n",
              "    border-radius: 50%;\n",
              "    cursor: pointer;\n",
              "    display: none;\n",
              "    fill: var(--fill-color);\n",
              "    height: 32px;\n",
              "    padding: 0;\n",
              "    width: 32px;\n",
              "  }\n",
              "\n",
              "  .colab-df-quickchart:hover {\n",
              "    background-color: var(--hover-bg-color);\n",
              "    box-shadow: 0 1px 2px rgba(60, 64, 67, 0.3), 0 1px 3px 1px rgba(60, 64, 67, 0.15);\n",
              "    fill: var(--button-hover-fill-color);\n",
              "  }\n",
              "\n",
              "  .colab-df-quickchart-complete:disabled,\n",
              "  .colab-df-quickchart-complete:disabled:hover {\n",
              "    background-color: var(--disabled-bg-color);\n",
              "    fill: var(--disabled-fill-color);\n",
              "    box-shadow: none;\n",
              "  }\n",
              "\n",
              "  .colab-df-spinner {\n",
              "    border: 2px solid var(--fill-color);\n",
              "    border-color: transparent;\n",
              "    border-bottom-color: var(--fill-color);\n",
              "    animation:\n",
              "      spin 1s steps(1) infinite;\n",
              "  }\n",
              "\n",
              "  @keyframes spin {\n",
              "    0% {\n",
              "      border-color: transparent;\n",
              "      border-bottom-color: var(--fill-color);\n",
              "      border-left-color: var(--fill-color);\n",
              "    }\n",
              "    20% {\n",
              "      border-color: transparent;\n",
              "      border-left-color: var(--fill-color);\n",
              "      border-top-color: var(--fill-color);\n",
              "    }\n",
              "    30% {\n",
              "      border-color: transparent;\n",
              "      border-left-color: var(--fill-color);\n",
              "      border-top-color: var(--fill-color);\n",
              "      border-right-color: var(--fill-color);\n",
              "    }\n",
              "    40% {\n",
              "      border-color: transparent;\n",
              "      border-right-color: var(--fill-color);\n",
              "      border-top-color: var(--fill-color);\n",
              "    }\n",
              "    60% {\n",
              "      border-color: transparent;\n",
              "      border-right-color: var(--fill-color);\n",
              "    }\n",
              "    80% {\n",
              "      border-color: transparent;\n",
              "      border-right-color: var(--fill-color);\n",
              "      border-bottom-color: var(--fill-color);\n",
              "    }\n",
              "    90% {\n",
              "      border-color: transparent;\n",
              "      border-bottom-color: var(--fill-color);\n",
              "    }\n",
              "  }\n",
              "</style>\n",
              "\n",
              "  <script>\n",
              "    async function quickchart(key) {\n",
              "      const quickchartButtonEl =\n",
              "        document.querySelector('#' + key + ' button');\n",
              "      quickchartButtonEl.disabled = true;  // To prevent multiple clicks.\n",
              "      quickchartButtonEl.classList.add('colab-df-spinner');\n",
              "      try {\n",
              "        const charts = await google.colab.kernel.invokeFunction(\n",
              "            'suggestCharts', [key], {});\n",
              "      } catch (error) {\n",
              "        console.error('Error during call to suggestCharts:', error);\n",
              "      }\n",
              "      quickchartButtonEl.classList.remove('colab-df-spinner');\n",
              "      quickchartButtonEl.classList.add('colab-df-quickchart-complete');\n",
              "    }\n",
              "    (() => {\n",
              "      let quickchartButtonEl =\n",
              "        document.querySelector('#df-cf9516ab-3614-4ad5-b940-26033c4e508d button');\n",
              "      quickchartButtonEl.style.display =\n",
              "        google.colab.kernel.accessAllowed ? 'block' : 'none';\n",
              "    })();\n",
              "  </script>\n",
              "</div>\n",
              "\n",
              "  <div id=\"id_e2b455d6-562e-44c6-bcb5-52f2f8595db5\">\n",
              "    <style>\n",
              "      .colab-df-generate {\n",
              "        background-color: #E8F0FE;\n",
              "        border: none;\n",
              "        border-radius: 50%;\n",
              "        cursor: pointer;\n",
              "        display: none;\n",
              "        fill: #1967D2;\n",
              "        height: 32px;\n",
              "        padding: 0 0 0 0;\n",
              "        width: 32px;\n",
              "      }\n",
              "\n",
              "      .colab-df-generate:hover {\n",
              "        background-color: #E2EBFA;\n",
              "        box-shadow: 0px 1px 2px rgba(60, 64, 67, 0.3), 0px 1px 3px 1px rgba(60, 64, 67, 0.15);\n",
              "        fill: #174EA6;\n",
              "      }\n",
              "\n",
              "      [theme=dark] .colab-df-generate {\n",
              "        background-color: #3B4455;\n",
              "        fill: #D2E3FC;\n",
              "      }\n",
              "\n",
              "      [theme=dark] .colab-df-generate:hover {\n",
              "        background-color: #434B5C;\n",
              "        box-shadow: 0px 1px 3px 1px rgba(0, 0, 0, 0.15);\n",
              "        filter: drop-shadow(0px 1px 2px rgba(0, 0, 0, 0.3));\n",
              "        fill: #FFFFFF;\n",
              "      }\n",
              "    </style>\n",
              "    <button class=\"colab-df-generate\" onclick=\"generateWithVariable('train_set')\"\n",
              "            title=\"Generate code using this dataframe.\"\n",
              "            style=\"display:none;\">\n",
              "\n",
              "  <svg xmlns=\"http://www.w3.org/2000/svg\" height=\"24px\"viewBox=\"0 0 24 24\"\n",
              "       width=\"24px\">\n",
              "    <path d=\"M7,19H8.4L18.45,9,17,7.55,7,17.6ZM5,21V16.75L18.45,3.32a2,2,0,0,1,2.83,0l1.4,1.43a1.91,1.91,0,0,1,.58,1.4,1.91,1.91,0,0,1-.58,1.4L9.25,21ZM18.45,9,17,7.55Zm-12,3A5.31,5.31,0,0,0,4.9,8.1,5.31,5.31,0,0,0,1,6.5,5.31,5.31,0,0,0,4.9,4.9,5.31,5.31,0,0,0,6.5,1,5.31,5.31,0,0,0,8.1,4.9,5.31,5.31,0,0,0,12,6.5,5.46,5.46,0,0,0,6.5,12Z\"/>\n",
              "  </svg>\n",
              "    </button>\n",
              "    <script>\n",
              "      (() => {\n",
              "      const buttonEl =\n",
              "        document.querySelector('#id_e2b455d6-562e-44c6-bcb5-52f2f8595db5 button.colab-df-generate');\n",
              "      buttonEl.style.display =\n",
              "        google.colab.kernel.accessAllowed ? 'block' : 'none';\n",
              "\n",
              "      buttonEl.onclick = () => {\n",
              "        google.colab.notebook.generateWithVariable('train_set');\n",
              "      }\n",
              "      })();\n",
              "    </script>\n",
              "  </div>\n",
              "\n",
              "    </div>\n",
              "  </div>\n"
            ],
            "application/vnd.google.colaboratory.intrinsic+json": {
              "type": "dataframe",
              "variable_name": "train_set",
              "summary": "{\n  \"name\": \"train_set\",\n  \"rows\": 10000,\n  \"fields\": [\n    {\n      \"column\": \"label\",\n      \"properties\": {\n        \"dtype\": \"number\",\n        \"std\": 0,\n        \"min\": 0,\n        \"max\": 1,\n        \"num_unique_values\": 2,\n        \"samples\": [\n          1,\n          0\n        ],\n        \"semantic_type\": \"\",\n        \"description\": \"\"\n      }\n    },\n    {\n      \"column\": \"title\",\n      \"properties\": {\n        \"dtype\": \"string\",\n        \"num_unique_values\": 9320,\n        \"samples\": [\n          \"Not fun, not comfortable!\",\n          \"Entertaining and Effective\"\n        ],\n        \"semantic_type\": \"\",\n        \"description\": \"\"\n      }\n    },\n    {\n      \"column\": \"content\",\n      \"properties\": {\n        \"dtype\": \"string\",\n        \"num_unique_values\": 9998,\n        \"samples\": [\n          \"The air mattress was good only for one day, after one day it started deflating and I have to inflate it every night before sleep. By the time I wake up on it the next day it has become like a water bed since it has deflated. I cannot find the hole from where it deflates.\",\n          \"Was very comfortable when I inflated it, but had deflated twice before the night was over. Boasts features like beds twice the price -- the internal 120 AC pump is handy (especially since it deflates so fast) but it is noisy,and who wants to interrupt their sleep twice a night to reinflate the bed? Not me, that's for sure. I really wish it hadn't been a leaker, I like this bed, everything about it except that.\"\n        ],\n        \"semantic_type\": \"\",\n        \"description\": \"\"\n      }\n    }\n  ]\n}"
            }
          },
          "metadata": {},
          "execution_count": 56
        }
      ],
      "source": [
        "train_set"
      ]
    },
    {
      "cell_type": "code",
      "execution_count": null,
      "metadata": {
        "id": "zNI8_8_yaXW2"
      },
      "outputs": [],
      "source": [
        "test_set['label'] = test_set['label'] - 1\n",
        "test_set['label'] = 1 - test_set['label']"
      ]
    },
    {
      "cell_type": "code",
      "source": [
        "train_set['content'] = train_set['content'].apply(standardize_data)\n",
        "test_set['content'] = test_set['content'].apply(standardize_data)"
      ],
      "metadata": {
        "id": "donrJKCRbLaw"
      },
      "execution_count": null,
      "outputs": []
    },
    {
      "cell_type": "markdown",
      "source": [
        "# Data visualization"
      ],
      "metadata": {
        "id": "g81CBBXCJEEM"
      }
    },
    {
      "cell_type": "code",
      "source": [
        "import matplotlib.pyplot as plt\n",
        "!mkdir plots"
      ],
      "metadata": {
        "id": "atrpuYglXL7R",
        "colab": {
          "base_uri": "https://localhost:8080/"
        },
        "outputId": "512b4324-6afb-42fe-bd06-abe3d3c7510f"
      },
      "execution_count": null,
      "outputs": [
        {
          "output_type": "stream",
          "name": "stdout",
          "text": [
            "mkdir: cannot create directory ‘plots’: File exists\n"
          ]
        }
      ]
    },
    {
      "cell_type": "code",
      "source": [
        "# Label distribution\n",
        "\n",
        "train_set['label'].value_counts().plot(kind='bar')\n",
        "plt.savefig('plots/label_freq.png', dpi=300, bbox_inches='tight')"
      ],
      "metadata": {
        "colab": {
          "base_uri": "https://localhost:8080/",
          "height": 444
        },
        "id": "v4T8_2GfJFqA",
        "outputId": "33416eba-abf9-4c15-ca33-8ab02057bee4"
      },
      "execution_count": null,
      "outputs": [
        {
          "output_type": "display_data",
          "data": {
            "text/plain": [
              "<Figure size 640x480 with 1 Axes>"
            ],
            "image/png": "[encoded data removed]"
          },
          "metadata": {}
        }
      ]
    },
    {
      "cell_type": "code",
      "source": [
        "# Word count distribution\n",
        "\n",
        "train_set_with_wordcount = pd.DataFrame(train_set)\n",
        "train_set_with_wordcount['wordcount'] = train_set_with_wordcount['content'].apply(len)\n",
        "train_set_with_wordcount"
      ],
      "metadata": {
        "colab": {
          "base_uri": "https://localhost:8080/",
          "height": 423
        },
        "id": "FHQzoTocKp01",
        "outputId": "fc535967-5a0a-4d39-b517-9228f12a101e"
      },
      "execution_count": null,
      "outputs": [
        {
          "output_type": "execute_result",
          "data": {
            "text/plain": [
              "      label                                              title  \\\n",
              "0         0                     Stuning even for the non-gamer   \n",
              "1         0              The best soundtrack ever to anything.   \n",
              "2         0                                           Amazing!   \n",
              "3         0                               Excellent Soundtrack   \n",
              "4         0  Remember, Pull Your Jaw Off The Floor After He...   \n",
              "...     ...                                                ...   \n",
              "9995      0  A revelation of life in small town America in ...   \n",
              "9996      0   Great biography of a very interesting journalist   \n",
              "9997      1             Interesting Subject; Poor Presentation   \n",
              "9998      1                                          Don't buy   \n",
              "9999      0                   Beautiful Pen and Fast Delivery.   \n",
              "\n",
              "                                                content  wordcount  \n",
              "0     this sound track was beautiful  it paints the ...        394  \n",
              "1     i am reading a lot of reviews saying that this...        475  \n",
              "2     this soundtrack is my favorite music of all ti...        755  \n",
              "3     i truly like this soundtrack and i enjoy video...        722  \n",
              "4     if you have played the game  you know how divi...        427  \n",
              "...                                                 ...        ...  \n",
              "9995  though a scholarly biography  the book reveals...        808  \n",
              "9996  this biography of arthur aull  a small town jo...        810  \n",
              "9997  you would be hard pressed to tell a boring sto...        614  \n",
              "9998  the box looked used and it is obviously not ne...        124  \n",
              "9999  the pen was shipped promptly  this is the clas...        502  \n",
              "\n",
              "[10000 rows x 4 columns]"
            ],
            "text/html": [
              "\n",
              "  <div id=\"df-a022ab85-31db-4719-8f03-0e266cd14e89\" class=\"colab-df-container\">\n",
              "    <div>\n",
              "<style scoped>\n",
              "    .dataframe tbody tr th:only-of-type {\n",
              "        vertical-align: middle;\n",
              "    }\n",
              "\n",
              "    .dataframe tbody tr th {\n",
              "        vertical-align: top;\n",
              "    }\n",
              "\n",
              "    .dataframe thead th {\n",
              "        text-align: right;\n",
              "    }\n",
              "</style>\n",
              "<table border=\"1\" class=\"dataframe\">\n",
              "  <thead>\n",
              "    <tr style=\"text-align: right;\">\n",
              "      <th></th>\n",
              "      <th>label</th>\n",
              "      <th>title</th>\n",
              "      <th>content</th>\n",
              "      <th>wordcount</th>\n",
              "    </tr>\n",
              "  </thead>\n",
              "  <tbody>\n",
              "    <tr>\n",
              "      <th>0</th>\n",
              "      <td>0</td>\n",
              "      <td>Stuning even for the non-gamer</td>\n",
              "      <td>this sound track was beautiful  it paints the ...</td>\n",
              "      <td>394</td>\n",
              "    </tr>\n",
              "    <tr>\n",
              "      <th>1</th>\n",
              "      <td>0</td>\n",
              "      <td>The best soundtrack ever to anything.</td>\n",
              "      <td>i am reading a lot of reviews saying that this...</td>\n",
              "      <td>475</td>\n",
              "    </tr>\n",
              "    <tr>\n",
              "      <th>2</th>\n",
              "      <td>0</td>\n",
              "      <td>Amazing!</td>\n",
              "      <td>this soundtrack is my favorite music of all ti...</td>\n",
              "      <td>755</td>\n",
              "    </tr>\n",
              "    <tr>\n",
              "      <th>3</th>\n",
              "      <td>0</td>\n",
              "      <td>Excellent Soundtrack</td>\n",
              "      <td>i truly like this soundtrack and i enjoy video...</td>\n",
              "      <td>722</td>\n",
              "    </tr>\n",
              "    <tr>\n",
              "      <th>4</th>\n",
              "      <td>0</td>\n",
              "      <td>Remember, Pull Your Jaw Off The Floor After He...</td>\n",
              "      <td>if you have played the game  you know how divi...</td>\n",
              "      <td>427</td>\n",
              "    </tr>\n",
              "    <tr>\n",
              "      <th>...</th>\n",
              "      <td>...</td>\n",
              "      <td>...</td>\n",
              "      <td>...</td>\n",
              "      <td>...</td>\n",
              "    </tr>\n",
              "    <tr>\n",
              "      <th>9995</th>\n",
              "      <td>0</td>\n",
              "      <td>A revelation of life in small town America in ...</td>\n",
              "      <td>though a scholarly biography  the book reveals...</td>\n",
              "      <td>808</td>\n",
              "    </tr>\n",
              "    <tr>\n",
              "      <th>9996</th>\n",
              "      <td>0</td>\n",
              "      <td>Great biography of a very interesting journalist</td>\n",
              "      <td>this biography of arthur aull  a small town jo...</td>\n",
              "      <td>810</td>\n",
              "    </tr>\n",
              "    <tr>\n",
              "      <th>9997</th>\n",
              "      <td>1</td>\n",
              "      <td>Interesting Subject; Poor Presentation</td>\n",
              "      <td>you would be hard pressed to tell a boring sto...</td>\n",
              "      <td>614</td>\n",
              "    </tr>\n",
              "    <tr>\n",
              "      <th>9998</th>\n",
              "      <td>1</td>\n",
              "      <td>Don't buy</td>\n",
              "      <td>the box looked used and it is obviously not ne...</td>\n",
              "      <td>124</td>\n",
              "    </tr>\n",
              "    <tr>\n",
              "      <th>9999</th>\n",
              "      <td>0</td>\n",
              "      <td>Beautiful Pen and Fast Delivery.</td>\n",
              "      <td>the pen was shipped promptly  this is the clas...</td>\n",
              "      <td>502</td>\n",
              "    </tr>\n",
              "  </tbody>\n",
              "</table>\n",
              "<p>10000 rows × 4 columns</p>\n",
              "</div>\n",
              "    <div class=\"colab-df-buttons\">\n",
              "\n",
              "  <div class=\"colab-df-container\">\n",
              "    <button class=\"colab-df-convert\" onclick=\"convertToInteractive('df-a022ab85-31db-4719-8f03-0e266cd14e89')\"\n",
              "            title=\"Convert this dataframe to an interactive table.\"\n",
              "            style=\"display:none;\">\n",
              "\n",
              "  <svg xmlns=\"http://www.w3.org/2000/svg\" height=\"24px\" viewBox=\"0 -960 960 960\">\n",
              "    <path d=\"M120-120v-720h720v720H120Zm60-500h600v-160H180v160Zm220 220h160v-160H400v160Zm0 220h160v-160H400v160ZM180-400h160v-160H180v160Zm440 0h160v-160H620v160ZM180-180h160v-160H180v160Zm440 0h160v-160H620v160Z\"/>\n",
              "  </svg>\n",
              "    </button>\n",
              "\n",
              "  <style>\n",
              "    .colab-df-container {\n",
              "      display:flex;\n",
              "      gap: 12px;\n",
              "    }\n",
              "\n",
              "    .colab-df-convert {\n",
              "      background-color: #E8F0FE;\n",
              "      border: none;\n",
              "      border-radius: 50%;\n",
              "      cursor: pointer;\n",
              "      display: none;\n",
              "      fill: #1967D2;\n",
              "      height: 32px;\n",
              "      padding: 0 0 0 0;\n",
              "      width: 32px;\n",
              "    }\n",
              "\n",
              "    .colab-df-convert:hover {\n",
              "      background-color: #E2EBFA;\n",
              "      box-shadow: 0px 1px 2px rgba(60, 64, 67, 0.3), 0px 1px 3px 1px rgba(60, 64, 67, 0.15);\n",
              "      fill: #174EA6;\n",
              "    }\n",
              "\n",
              "    .colab-df-buttons div {\n",
              "      margin-bottom: 4px;\n",
              "    }\n",
              "\n",
              "    [theme=dark] .colab-df-convert {\n",
              "      background-color: #3B4455;\n",
              "      fill: #D2E3FC;\n",
              "    }\n",
              "\n",
              "    [theme=dark] .colab-df-convert:hover {\n",
              "      background-color: #434B5C;\n",
              "      box-shadow: 0px 1px 3px 1px rgba(0, 0, 0, 0.15);\n",
              "      filter: drop-shadow(0px 1px 2px rgba(0, 0, 0, 0.3));\n",
              "      fill: #FFFFFF;\n",
              "    }\n",
              "  </style>\n",
              "\n",
              "    <script>\n",
              "      const buttonEl =\n",
              "        document.querySelector('#df-a022ab85-31db-4719-8f03-0e266cd14e89 button.colab-df-convert');\n",
              "      buttonEl.style.display =\n",
              "        google.colab.kernel.accessAllowed ? 'block' : 'none';\n",
              "\n",
              "      async function convertToInteractive(key) {\n",
              "        const element = document.querySelector('#df-a022ab85-31db-4719-8f03-0e266cd14e89');\n",
              "        const dataTable =\n",
              "          await google.colab.kernel.invokeFunction('convertToInteractive',\n",
              "                                                    [key], {});\n",
              "        if (!dataTable) return;\n",
              "\n",
              "        const docLinkHtml = 'Like what you see? Visit the ' +\n",
              "          '<a target=\"_blank\" href=https://colab.research.google.com/notebooks/data_table.ipynb>data table notebook</a>'\n",
              "          + ' to learn more about interactive tables.';\n",
              "        element.innerHTML = '';\n",
              "        dataTable['output_type'] = 'display_data';\n",
              "        await google.colab.output.renderOutput(dataTable, element);\n",
              "        const docLink = document.createElement('div');\n",
              "        docLink.innerHTML = docLinkHtml;\n",
              "        element.appendChild(docLink);\n",
              "      }\n",
              "    </script>\n",
              "  </div>\n",
              "\n",
              "\n",
              "<div id=\"df-f1964175-61ca-4241-883a-784d9cfc4139\">\n",
              "  <button class=\"colab-df-quickchart\" onclick=\"quickchart('df-f1964175-61ca-4241-883a-784d9cfc4139')\"\n",
              "            title=\"Suggest charts\"\n",
              "            style=\"display:none;\">\n",
              "\n",
              "<svg xmlns=\"http://www.w3.org/2000/svg\" height=\"24px\"viewBox=\"0 0 24 24\"\n",
              "     width=\"24px\">\n",
              "    <g>\n",
              "        <path d=\"M19 3H5c-1.1 0-2 .9-2 2v14c0 1.1.9 2 2 2h14c1.1 0 2-.9 2-2V5c0-1.1-.9-2-2-2zM9 17H7v-7h2v7zm4 0h-2V7h2v10zm4 0h-2v-4h2v4z\"/>\n",
              "    </g>\n",
              "</svg>\n",
              "  </button>\n",
              "\n",
              "<style>\n",
              "  .colab-df-quickchart {\n",
              "      --bg-color: #E8F0FE;\n",
              "      --fill-color: #1967D2;\n",
              "      --hover-bg-color: #E2EBFA;\n",
              "      --hover-fill-color: #174EA6;\n",
              "      --disabled-fill-color: #AAA;\n",
              "      --disabled-bg-color: #DDD;\n",
              "  }\n",
              "\n",
              "  [theme=dark] .colab-df-quickchart {\n",
              "      --bg-color: #3B4455;\n",
              "      --fill-color: #D2E3FC;\n",
              "      --hover-bg-color: #434B5C;\n",
              "      --hover-fill-color: #FFFFFF;\n",
              "      --disabled-bg-color: #3B4455;\n",
              "      --disabled-fill-color: #666;\n",
              "  }\n",
              "\n",
              "  .colab-df-quickchart {\n",
              "    background-color: var(--bg-color);\n",
              "    border: none;\n",
              "    border-radius: 50%;\n",
              "    cursor: pointer;\n",
              "    display: none;\n",
              "    fill: var(--fill-color);\n",
              "    height: 32px;\n",
              "    padding: 0;\n",
              "    width: 32px;\n",
              "  }\n",
              "\n",
              "  .colab-df-quickchart:hover {\n",
              "    background-color: var(--hover-bg-color);\n",
              "    box-shadow: 0 1px 2px rgba(60, 64, 67, 0.3), 0 1px 3px 1px rgba(60, 64, 67, 0.15);\n",
              "    fill: var(--button-hover-fill-color);\n",
              "  }\n",
              "\n",
              "  .colab-df-quickchart-complete:disabled,\n",
              "  .colab-df-quickchart-complete:disabled:hover {\n",
              "    background-color: var(--disabled-bg-color);\n",
              "    fill: var(--disabled-fill-color);\n",
              "    box-shadow: none;\n",
              "  }\n",
              "\n",
              "  .colab-df-spinner {\n",
              "    border: 2px solid var(--fill-color);\n",
              "    border-color: transparent;\n",
              "    border-bottom-color: var(--fill-color);\n",
              "    animation:\n",
              "      spin 1s steps(1) infinite;\n",
              "  }\n",
              "\n",
              "  @keyframes spin {\n",
              "    0% {\n",
              "      border-color: transparent;\n",
              "      border-bottom-color: var(--fill-color);\n",
              "      border-left-color: var(--fill-color);\n",
              "    }\n",
              "    20% {\n",
              "      border-color: transparent;\n",
              "      border-left-color: var(--fill-color);\n",
              "      border-top-color: var(--fill-color);\n",
              "    }\n",
              "    30% {\n",
              "      border-color: transparent;\n",
              "      border-left-color: var(--fill-color);\n",
              "      border-top-color: var(--fill-color);\n",
              "      border-right-color: var(--fill-color);\n",
              "    }\n",
              "    40% {\n",
              "      border-color: transparent;\n",
              "      border-right-color: var(--fill-color);\n",
              "      border-top-color: var(--fill-color);\n",
              "    }\n",
              "    60% {\n",
              "      border-color: transparent;\n",
              "      border-right-color: var(--fill-color);\n",
              "    }\n",
              "    80% {\n",
              "      border-color: transparent;\n",
              "      border-right-color: var(--fill-color);\n",
              "      border-bottom-color: var(--fill-color);\n",
              "    }\n",
              "    90% {\n",
              "      border-color: transparent;\n",
              "      border-bottom-color: var(--fill-color);\n",
              "    }\n",
              "  }\n",
              "</style>\n",
              "\n",
              "  <script>\n",
              "    async function quickchart(key) {\n",
              "      const quickchartButtonEl =\n",
              "        document.querySelector('#' + key + ' button');\n",
              "      quickchartButtonEl.disabled = true;  // To prevent multiple clicks.\n",
              "      quickchartButtonEl.classList.add('colab-df-spinner');\n",
              "      try {\n",
              "        const charts = await google.colab.kernel.invokeFunction(\n",
              "            'suggestCharts', [key], {});\n",
              "      } catch (error) {\n",
              "        console.error('Error during call to suggestCharts:', error);\n",
              "      }\n",
              "      quickchartButtonEl.classList.remove('colab-df-spinner');\n",
              "      quickchartButtonEl.classList.add('colab-df-quickchart-complete');\n",
              "    }\n",
              "    (() => {\n",
              "      let quickchartButtonEl =\n",
              "        document.querySelector('#df-f1964175-61ca-4241-883a-784d9cfc4139 button');\n",
              "      quickchartButtonEl.style.display =\n",
              "        google.colab.kernel.accessAllowed ? 'block' : 'none';\n",
              "    })();\n",
              "  </script>\n",
              "</div>\n",
              "\n",
              "  <div id=\"id_53a10407-5076-4df7-a14c-6392cf6f4560\">\n",
              "    <style>\n",
              "      .colab-df-generate {\n",
              "        background-color: #E8F0FE;\n",
              "        border: none;\n",
              "        border-radius: 50%;\n",
              "        cursor: pointer;\n",
              "        display: none;\n",
              "        fill: #1967D2;\n",
              "        height: 32px;\n",
              "        padding: 0 0 0 0;\n",
              "        width: 32px;\n",
              "      }\n",
              "\n",
              "      .colab-df-generate:hover {\n",
              "        background-color: #E2EBFA;\n",
              "        box-shadow: 0px 1px 2px rgba(60, 64, 67, 0.3), 0px 1px 3px 1px rgba(60, 64, 67, 0.15);\n",
              "        fill: #174EA6;\n",
              "      }\n",
              "\n",
              "      [theme=dark] .colab-df-generate {\n",
              "        background-color: #3B4455;\n",
              "        fill: #D2E3FC;\n",
              "      }\n",
              "\n",
              "      [theme=dark] .colab-df-generate:hover {\n",
              "        background-color: #434B5C;\n",
              "        box-shadow: 0px 1px 3px 1px rgba(0, 0, 0, 0.15);\n",
              "        filter: drop-shadow(0px 1px 2px rgba(0, 0, 0, 0.3));\n",
              "        fill: #FFFFFF;\n",
              "      }\n",
              "    </style>\n",
              "    <button class=\"colab-df-generate\" onclick=\"generateWithVariable('train_set_with_wordcount')\"\n",
              "            title=\"Generate code using this dataframe.\"\n",
              "            style=\"display:none;\">\n",
              "\n",
              "  <svg xmlns=\"http://www.w3.org/2000/svg\" height=\"24px\"viewBox=\"0 0 24 24\"\n",
              "       width=\"24px\">\n",
              "    <path d=\"M7,19H8.4L18.45,9,17,7.55,7,17.6ZM5,21V16.75L18.45,3.32a2,2,0,0,1,2.83,0l1.4,1.43a1.91,1.91,0,0,1,.58,1.4,1.91,1.91,0,0,1-.58,1.4L9.25,21ZM18.45,9,17,7.55Zm-12,3A5.31,5.31,0,0,0,4.9,8.1,5.31,5.31,0,0,0,1,6.5,5.31,5.31,0,0,0,4.9,4.9,5.31,5.31,0,0,0,6.5,1,5.31,5.31,0,0,0,8.1,4.9,5.31,5.31,0,0,0,12,6.5,5.46,5.46,0,0,0,6.5,12Z\"/>\n",
              "  </svg>\n",
              "    </button>\n",
              "    <script>\n",
              "      (() => {\n",
              "      const buttonEl =\n",
              "        document.querySelector('#id_53a10407-5076-4df7-a14c-6392cf6f4560 button.colab-df-generate');\n",
              "      buttonEl.style.display =\n",
              "        google.colab.kernel.accessAllowed ? 'block' : 'none';\n",
              "\n",
              "      buttonEl.onclick = () => {\n",
              "        google.colab.notebook.generateWithVariable('train_set_with_wordcount');\n",
              "      }\n",
              "      })();\n",
              "    </script>\n",
              "  </div>\n",
              "\n",
              "    </div>\n",
              "  </div>\n"
            ],
            "application/vnd.google.colaboratory.intrinsic+json": {
              "type": "dataframe",
              "variable_name": "train_set_with_wordcount",
              "summary": "{\n  \"name\": \"train_set_with_wordcount\",\n  \"rows\": 10000,\n  \"fields\": [\n    {\n      \"column\": \"label\",\n      \"properties\": {\n        \"dtype\": \"number\",\n        \"std\": 0,\n        \"min\": 0,\n        \"max\": 1,\n        \"num_unique_values\": 2,\n        \"samples\": [\n          1,\n          0\n        ],\n        \"semantic_type\": \"\",\n        \"description\": \"\"\n      }\n    },\n    {\n      \"column\": \"title\",\n      \"properties\": {\n        \"dtype\": \"string\",\n        \"num_unique_values\": 9320,\n        \"samples\": [\n          \"Not fun, not comfortable!\",\n          \"Entertaining and Effective\"\n        ],\n        \"semantic_type\": \"\",\n        \"description\": \"\"\n      }\n    },\n    {\n      \"column\": \"content\",\n      \"properties\": {\n        \"dtype\": \"string\",\n        \"num_unique_values\": 9998,\n        \"samples\": [\n          \"the air mattress was good only for one day  after one day it started deflating and i have to inflate it every night before sleep  by the time i wake up on it the next day it has become like a water bed since it has deflated  i cannot find the hole from where it deflates\",\n          \"was very comfortable when i inflated it  but had deflated twice before the night was over  boasts features like beds twice the price    the internal 120 ac pump is handy (especially since it deflates so fast) but it is noisy and who wants to interrupt their sleep twice a night to reinflate the bed  not me  that is for sure  i really wish it had not been a leaker  i like this bed  everything about it except that\"\n        ],\n        \"semantic_type\": \"\",\n        \"description\": \"\"\n      }\n    },\n    {\n      \"column\": \"wordcount\",\n      \"properties\": {\n        \"dtype\": \"number\",\n        \"std\": 236,\n        \"min\": 9,\n        \"max\": 1018,\n        \"num_unique_values\": 931,\n        \"samples\": [\n          890,\n          225\n        ],\n        \"semantic_type\": \"\",\n        \"description\": \"\"\n      }\n    }\n  ]\n}"
            }
          },
          "metadata": {},
          "execution_count": 61
        }
      ]
    },
    {
      "cell_type": "code",
      "source": [
        "train_set_with_wordcount['wordcount'].plot(kind='hist', bins=100)\n",
        "plt.savefig('plots/wordcount_freq.png', dpi=300, bbox_inches='tight')"
      ],
      "metadata": {
        "colab": {
          "base_uri": "https://localhost:8080/",
          "height": 430
        },
        "id": "WZ1GiebmMCJH",
        "outputId": "120d622b-9fcd-4fd3-8eb5-a2677d017edf"
      },
      "execution_count": null,
      "outputs": [
        {
          "output_type": "display_data",
          "data": {
            "text/plain": [
              "<Figure size 640x480 with 1 Axes>"
            ],
            "image/png": "[encoded data removed]"
          },
          "metadata": {}
        }
      ]
    },
    {
      "cell_type": "code",
      "source": [
        "from sklearn.feature_extraction.text import CountVectorizer\n",
        "\n",
        "# based on https://towardsdatascience.com/a-complete-exploratory-data-analysis-and-visualization-for-text-data-29fb1b96fb6a\n",
        "def get_top_n_kgrams(k = 1, n = 1, filter_stopwords = False):\n",
        "    vec = []\n",
        "    if filter_stopwords:\n",
        "      vec = CountVectorizer(ngram_range=(k, k), stop_words = 'english').fit(train_set['content'])\n",
        "    else:\n",
        "      vec = CountVectorizer(ngram_range=(k, k)).fit(train_set['content'])\n",
        "\n",
        "    bag_of_words = vec.transform(train_set['content'])\n",
        "    sum_words = bag_of_words.sum(axis=0)\n",
        "    words_freq = [(word, sum_words[0, idx]) for word, idx in vec.vocabulary_.items()]\n",
        "    words_freq =sorted(words_freq, key = lambda x: x[1], reverse=True)\n",
        "    return words_freq[:n]"
      ],
      "metadata": {
        "id": "TYcaI-1DPxJ4"
      },
      "execution_count": null,
      "outputs": []
    },
    {
      "cell_type": "code",
      "source": [
        "def plot_top_n_kgrams(k = 1, n = 1, filter_stopwords = False):\n",
        "    kgrams = get_top_n_kgrams(k, n, filter_stopwords)\n",
        "    df_tmp = pd.DataFrame(kgrams, columns = ['words', 'count'])\n",
        "    df_tmp = df_tmp.groupby('words').sum()['count'].sort_values(ascending=False)\n",
        "    df_tmp.plot(kind='bar')"
      ],
      "metadata": {
        "id": "oAdPE39-RP7c"
      },
      "execution_count": null,
      "outputs": []
    },
    {
      "cell_type": "code",
      "source": [
        "plot_top_n_kgrams(1, 30)\n",
        "plt.savefig('plots/top_unigrams_nofilter.png', dpi=300, bbox_inches='tight')"
      ],
      "metadata": {
        "colab": {
          "base_uri": "https://localhost:8080/",
          "height": 477
        },
        "id": "bp78II-JRri6",
        "outputId": "cf073722-06bc-4331-e1af-2e1cd425b017"
      },
      "execution_count": null,
      "outputs": [
        {
          "output_type": "display_data",
          "data": {
            "text/plain": [
              "<Figure size 640x480 with 1 Axes>"
            ],
            "image/png": "[encoded data removed]"
          },
          "metadata": {}
        }
      ]
    },
    {
      "cell_type": "code",
      "source": [
        "plot_top_n_kgrams(1, 30, True)\n",
        "plt.savefig('plots/top_unigrams_filter.png', dpi=300, bbox_inches='tight')"
      ],
      "metadata": {
        "colab": {
          "base_uri": "https://localhost:8080/",
          "height": 489
        },
        "id": "gVwG95FKSgZd",
        "outputId": "7cff7943-9046-4acc-95d1-fcc31b2ac371"
      },
      "execution_count": null,
      "outputs": [
        {
          "output_type": "display_data",
          "data": {
            "text/plain": [
              "<Figure size 640x480 with 1 Axes>"
            ],
            "image/png": "[encoded data removed]"
          },
          "metadata": {}
        }
      ]
    },
    {
      "cell_type": "code",
      "source": [
        "plot_top_n_kgrams(2, 30)\n",
        "plt.savefig('plots/top_bigrams_nofilter.png', dpi=300, bbox_inches='tight')"
      ],
      "metadata": {
        "colab": {
          "base_uri": "https://localhost:8080/",
          "height": 508
        },
        "id": "ZEF8t0SfSlUY",
        "outputId": "7507b9bf-a709-411c-e1e1-9199e8ac0439"
      },
      "execution_count": null,
      "outputs": [
        {
          "output_type": "display_data",
          "data": {
            "text/plain": [
              "<Figure size 640x480 with 1 Axes>"
            ],
            "image/png": "[encoded data removed]"
          },
          "metadata": {}
        }
      ]
    },
    {
      "cell_type": "code",
      "source": [
        "plot_top_n_kgrams(2, 30, True)\n",
        "plt.savefig('plots/top_bigrams_filter.png', dpi=300, bbox_inches='tight')"
      ],
      "metadata": {
        "colab": {
          "base_uri": "https://localhost:8080/",
          "height": 565
        },
        "id": "hPqhI15qSneH",
        "outputId": "e5482f3b-baab-4d79-edf8-dadf80e51260"
      },
      "execution_count": null,
      "outputs": [
        {
          "output_type": "display_data",
          "data": {
            "text/plain": [
              "<Figure size 640x480 with 1 Axes>"
            ],
            "image/png": "[encoded data removed]"
          },
          "metadata": {}
        }
      ]
    },
    {
      "cell_type": "markdown",
      "source": [
        "# Split up content and label"
      ],
      "metadata": {
        "id": "vA3d8XgvKi8E"
      }
    },
    {
      "cell_type": "code",
      "execution_count": null,
      "metadata": {
        "id": "S_8huQkJGkKz",
        "colab": {
          "base_uri": "https://localhost:8080/"
        },
        "outputId": "a33b8dc4-573b-4e89-b420-12406fd06cd8"
      },
      "outputs": [
        {
          "output_type": "stream",
          "name": "stdout",
          "text": [
            "0       this sound track was beautiful  it paints the ...\n",
            "1       i am reading a lot of reviews saying that this...\n",
            "2       this soundtrack is my favorite music of all ti...\n",
            "3       i truly like this soundtrack and i enjoy video...\n",
            "4       if you have played the game  you know how divi...\n",
            "                              ...                        \n",
            "9995    though a scholarly biography  the book reveals...\n",
            "9996    this biography of arthur aull  a small town jo...\n",
            "9997    you would be hard pressed to tell a boring sto...\n",
            "9998    the box looked used and it is obviously not ne...\n",
            "9999    the pen was shipped promptly  this is the clas...\n",
            "Name: content, Length: 10000, dtype: object\n",
            "0       0\n",
            "1       0\n",
            "2       0\n",
            "3       0\n",
            "4       0\n",
            "       ..\n",
            "9995    0\n",
            "9996    0\n",
            "9997    1\n",
            "9998    1\n",
            "9999    0\n",
            "Name: label, Length: 10000, dtype: int64\n"
          ]
        }
      ],
      "source": [
        "X_train, y_train = train_set['content'], train_set['label']\n",
        "print(X_train)\n",
        "print(y_train)"
      ]
    },
    {
      "cell_type": "code",
      "execution_count": null,
      "metadata": {
        "id": "Of7Btf8RHpiM"
      },
      "outputs": [],
      "source": [
        "X_test, y_test = test_set['content'], test_set['label']"
      ]
    },
    {
      "cell_type": "markdown",
      "metadata": {
        "id": "HHPUFRs4IRi3"
      },
      "source": [
        "# Embedding text data"
      ]
    },
    {
      "cell_type": "code",
      "execution_count": null,
      "metadata": {
        "id": "InLezY54H6yT"
      },
      "outputs": [],
      "source": [
        "# Embedding\n",
        "def embedding(X_train, X_test):\n",
        "    emb = TfidfVectorizer(min_df=5, max_df=0.8, max_features=5000, sublinear_tf=True, stop_words = 'english')\n",
        "    emb.fit(X_train)\n",
        "    X_train = emb.transform(X_train)\n",
        "    X_test = emb.transform(X_test)\n",
        "\n",
        "    # Save pkl file\n",
        "    joblib.dump(emb, 'tfidf.pkl')\n",
        "    return X_train, X_test"
      ]
    },
    {
      "cell_type": "code",
      "execution_count": null,
      "metadata": {
        "id": "NND5HyfHITO_"
      },
      "outputs": [],
      "source": [
        "X_train, X_test = embedding(X_train, X_test)"
      ]
    },
    {
      "cell_type": "markdown",
      "metadata": {
        "id": "IzhKrrFXIb3J"
      },
      "source": [
        "# Train and save model"
      ]
    },
    {
      "cell_type": "code",
      "execution_count": null,
      "metadata": {
        "id": "9-PSZA9uIbpX"
      },
      "outputs": [],
      "source": [
        "model = svm.SVC(kernel='linear')"
      ]
    },
    {
      "cell_type": "code",
      "execution_count": null,
      "metadata": {
        "id": "8vTsl861Iy6I"
      },
      "outputs": [],
      "source": [
        "model.fit(X_train, y_train)"
      ]
    },
    {
      "cell_type": "code",
      "execution_count": null,
      "metadata": {
        "id": "V6NI9e2hIhnG",
        "colab": {
          "base_uri": "https://localhost:8080/"
        },
        "outputId": "6df569c4-ae79-4387-9b9b-c74a959c5b01"
      },
      "outputs": [
        {
          "output_type": "execute_result",
          "data": {
            "text/plain": [
              "0.81545"
            ]
          },
          "metadata": {},
          "execution_count": 75
        }
      ],
      "source": [
        "model.score(X_test, y_test)"
      ]
    },
    {
      "cell_type": "code",
      "execution_count": null,
      "metadata": {
        "id": "NTcwnbr9I0IY",
        "colab": {
          "base_uri": "https://localhost:8080/"
        },
        "outputId": "a4b6943b-618e-450f-f696-652f47c6f9de"
      },
      "outputs": [
        {
          "output_type": "execute_result",
          "data": {
            "text/plain": [
              "['saved_model.pkl']"
            ]
          },
          "metadata": {},
          "execution_count": 76
        }
      ],
      "source": [
        "joblib.dump(model, 'saved_model.pkl')"
      ]
    },
    {
      "cell_type": "markdown",
      "metadata": {
        "id": "v5nGeN9LXWgX"
      },
      "source": [
        "# Test with amazon reviews"
      ]
    },
    {
      "cell_type": "code",
      "execution_count": null,
      "metadata": {
        "id": "FSyPa2SyXSMW"
      },
      "outputs": [],
      "source": [
        "import joblib\n",
        "import requests\n",
        "from bs4 import BeautifulSoup\n",
        "import re\n",
        "import pandas as pd\n",
        "import numpy as np"
      ]
    },
    {
      "cell_type": "code",
      "execution_count": null,
      "metadata": {
        "id": "d8318hPeXbRI"
      },
      "outputs": [],
      "source": [
        "emb = joblib.load('tfidf.pkl')"
      ]
    },
    {
      "cell_type": "code",
      "execution_count": null,
      "metadata": {
        "id": "Q1D-3uP_2SfO"
      },
      "outputs": [],
      "source": [
        "# cookie stuff on my pc idk i dont think this should be public ppl can hack me with this\n",
        "headers = {\n",
        "    'User-Agent': 'Mozilla/5.0 (Windows NT 10.0; Win64; x64) AppleWebKit/537.36 (KHTML, like Gecko) Chrome/58.0.3029.110 Safari/537.3',\n",
        "    \"Accept\":\"text/html,application/xhtml+xml,application/xml;q=0.9,image/avif,image/webp,image/apng,*/*;q=0.8,application/signed-exchange;v=b3;q=0.7\",\n",
        "    \"Cookie\":'session-id=139-7792766-4917763; sp-cdn=\"L5Z9:VN\"; ubid-main=132-7498913-0226016; lc-main=en_US; x-main=ST8wRlFkZ39w8QUoErqV54gy0MnpEyN5Bz3RN8c08XYTh8U59qt9ueINfFawfHSm; at-main=Atza|IwEBIKLIeE5-WvNXP-oICvb55AT_b7G9i1r0QhpLScE5_6HtjnEBIQnP-LrBUc2EHcnMaBXLMaFuaOQvUJId13P9j13s3W8_BHZ74HilzgHfWGN-_gJ8N7Vcmw3v-VHiO_A0LNDakKbYwhe4Q3dcvGk41MTk-bcxzo5a4to4sqSpHJjeig29-iKsmSOqz1lZAXCkXvLa0Gq3KD7TH4Tgk0reV1Xex4yNRiGI4rKTxQEUBfAmJ63sWLbsd0EwgKWVmIrcNqjthpjsmW4FVHMy2SFsCzo_naPHosnQ4Z6V32ejxVU0_A; sess-at-main=\"kW4e4WF1oy8c1IAXExL3+UaYzCDBtT4D8xpNcpo3cv8=\"; sst-main=Sst1|PQGl_G6fRccbjTuWeTc-Cce7CXInvkgCl8OnK59LWhGB6VtoDwpeW19LfNqE5JcUj5kB7OBv8nFTqVMfrO5N14KjfzzsXEIPBkLU7WIM366_OARBuY32HuLiK23Ojrxk4OSbHVpXel0ORtvLCI2ESj0Cke4zckPhysXu40hO26DC-8-CGzBFZp67mo9zugFbcENRGvEY08loIYK8E2uEsCE05qKVTvjNaTeOVRfUS_4bfQVsH0FgD8KhgBjyf9LDLd1U2XBn1t51A86VrLd-0B270HNnvkClIb5KJFKAOuNERqY; session-id-time=2082787201l; i18n-prefs=USD; session-token=3Ir/QhwRZWJ8WYy2lWcBrS/UZFXAg/8Bkq3EAIKwhsUHiB9QklCWO8FdS8FFxHodkDacWfC3QwsF6K3y7RCgkXzKToLYA2mPjlndus5e6v6oZOk/yhPRpfhjwIA97JIiiqZz1BXfffSRE2K+Md9YjA5brfveInhWOLRAme88rEYrCdAK9mpsOOUjYHOyMmL3nohultqMcBwFXqB67Ja+iSOpXqmiyji7btB2iVYpzp5xMeTIT7b4Wpka9Cv7Flrl9BpAdRFI13Lv7tFl0+Asqn9eHsG5fbzqZGUWP/Dj/KzmdRxR1I/RBKQk03SnA0bVbcgCO38OHIR+hkw3qQFL3aG+5ZJTKhe7YXUlzzV6cyqrRSxoeoLRthth3T6X2ien; csm-hit=tb:C3G3R0PWPNYD3P3WNSWW+b-C3G3R0PWPNYD3P3WNSWW|1711512147362&t:1711512147362&adb:adblk_yes'\n",
        "}"
      ]
    },
    {
      "cell_type": "code",
      "execution_count": null,
      "metadata": {
        "id": "D_6boNAJXilC"
      },
      "outputs": [],
      "source": [
        "# Thanks le bao long\n",
        "def get_amazon_reviews(product_id, max_page_number):\n",
        "    reviews = []\n",
        "\n",
        "    for i in range(1, max_page_number + 1):\n",
        "        url = f\"https://www.amazon.com/product-reviews/{product_id}?ie=UTF8&pageNumber={i}\"\n",
        "\n",
        "        response = requests.get(url, headers = headers)\n",
        "        soup = BeautifulSoup(response.content, 'html.parser')\n",
        "\n",
        "        review_texts = soup.select(\"#cm_cr-review_list .review-text-content > span\")\n",
        "        reviews += [review.get_text(strip = True) for review in review_texts]\n",
        "\n",
        "    return reviews"
      ]
    },
    {
      "cell_type": "code",
      "execution_count": null,
      "metadata": {
        "id": "NTMBb0U6XoDs"
      },
      "outputs": [],
      "source": [
        "def analyze(result):\n",
        "    bad = np.count_nonzero(result)\n",
        "    good = len(result) - bad\n",
        "    print(\"No of bad and neutral comments = \", bad)\n",
        "    print(\"No of good comments = \", good)\n",
        "\n",
        "    if good > bad:\n",
        "        return \"Good! You can buy it!\"\n",
        "    else:\n",
        "        return \"Bad! Please check it carefully!\""
      ]
    },
    {
      "cell_type": "code",
      "execution_count": null,
      "metadata": {
        "id": "0git1-4KXsXA"
      },
      "outputs": [],
      "source": [
        "product_id = 'B09G9FPHY6'"
      ]
    },
    {
      "cell_type": "code",
      "execution_count": null,
      "metadata": {
        "id": "1-x-NC7aXtOL",
        "colab": {
          "base_uri": "https://localhost:8080/"
        },
        "outputId": "bd477103-15e0-45f0-db5a-fe1b11e5356e"
      },
      "outputs": [
        {
          "output_type": "stream",
          "name": "stdout",
          "text": [
            "31\n",
            "['Bought for granddaughter. She loves it. Just what she was wanting. Good price. Fast shipment. Well packaged. Easy set up. Great system', \"I've been using the Apple iPad (9th Generation) for my kids' daily activities, and I have to say, it's been a reliable companion. The A13 Bionic chip ensures smooth performance, handling everything from homework assignments to entertainment with ease. The 10.2-inch Retina Display delivers crisp and clear visuals, making learning and entertainment enjoyable.The 64GB storage capacity provides ample space for apps, games, and educational content. The Wi-Fi connectivity allows for seamless internet access, and the Touch ID feature adds an extra layer of security.The 12MP front and 8MP back cameras capture decent photos and videos, perfect for documenting memories or attending virtual classes. Plus, the all-day battery life ensures the device lasts through long hours of use.Overall, the Apple iPad (9th Generation) offers reliable performance and quality construction, making it a great choice for everyday use, especially for kids.\", \"The Apple iPad (9th Generation) is a technological marvel that seamlessly combines power and versatility. Fueled by the A13 Bionic chip, this iPad delivers a level of performance that stands out in its class. The 10.2-inch Retina Display is a visual feast, offering crisp and vibrant images, making every video, photo, and application come to life. With a capacious 64GB storage, I found ample space for my apps, files, and multimedia without a hitch. The 12MP front and 8MP back cameras capture stunning photos and videos, making this iPad equally adept for creative pursuits and video calls. The inclusion of Touch ID adds a layer of security, and the all-day battery life ensures uninterrupted productivity or entertainment. In Silver, the iPad exudes elegance, making it not just a gadget but a style statement. Apple's 9th Generation iPad is undeniably a powerhouse, setting the bar high for tablets in terms of performance, display quality, and overall user experience.\", 'I’ve learned to buy only Apple products, they are extremely well made. Previously I had a Samsung tablet and it stunk. Battery life is great, which was a big problem with the Samsung. I recommend browsing through the iPads on Amazon, there are lots pads at great prices.Of course Apple products are more expensive than other brands, but the extra money is worth it.  At the time I bought it, it, I paid $269. It was  $299on Apple’s site. Now it sells for $249. The product is provided by Apple and sold by Amazon. Supplied by Apple it may take a bit longer for delivery. Well packaged!Definitely recommended.', 'My iPad Pro lasted me about 3 years. So had to buy a new iPad. With all the good reviews I decided on this one. Set up was easy, battery lasts a long time. Colors are bright, screen clear, functions perfectly. Everything transferred from my iPhone as my iPad Pro was deader than dead. But I found one of my game apps did not come over. And of course it was my favorite. Took me awhile to find a similar game by the same brand. Not exactly the same but close. Other than that, no complaints. Happy with this purchase.']\n"
          ]
        }
      ],
      "source": [
        "amaz_reviews = get_amazon_reviews(product_id, 3)\n",
        "print(len(amaz_reviews))\n",
        "print(amaz_reviews[:min(len(amaz_reviews), 5)])"
      ]
    },
    {
      "cell_type": "code",
      "execution_count": null,
      "metadata": {
        "id": "hgNPxu4sXyK2"
      },
      "outputs": [],
      "source": [
        "# It has to be like this to work idk cant convert to Series right away\n",
        "\n",
        "amaz_reviews = pd.DataFrame(amaz_reviews)\n",
        "amaz_reviews = amaz_reviews[0]"
      ]
    },
    {
      "cell_type": "code",
      "execution_count": null,
      "metadata": {
        "id": "S-yxsc7qX6aZ",
        "colab": {
          "base_uri": "https://localhost:8080/"
        },
        "outputId": "6e907b42-3c29-47b3-8021-192dc24d7abc"
      },
      "outputs": [
        {
          "output_type": "stream",
          "name": "stdout",
          "text": [
            "0     bought for granddaughter  she loves it  just w...\n",
            "1     i have been using the apple ipad (9th generati...\n",
            "2     the apple ipad (9th generation) is a technolog...\n",
            "3     i have learned to buy only apple products  the...\n",
            "4     my ipad pro lasted me about 3 years  so had to...\n",
            "5     i wanted to wait to write a review and i am gl...\n",
            "6     this a great tablet for the price   it is fast...\n",
            "7     works great  quality is prestige  performance ...\n",
            "8     it is not just a purchase  it is an investment...\n",
            "9     i purchased this as a replacement for my son s...\n",
            "10    i had not received this yet but not a doubt in...\n",
            "11    there is nothing to complain about the tracker...\n",
            "12    first of all  the battery life is excellent   ...\n",
            "13    i already have a 9th generation ipad that my k...\n",
            "14    apple ipad 9th gen   moved up from a 5th gen i...\n",
            "15    i needed to buy a new ipad as my ipad mini 2 h...\n",
            "16    so far i like everything about my ipad   i hav...\n",
            "17    drawing feels natural  she loves using the app...\n",
            "18    the 9th generation surprised me  i have a ipho...\n",
            "19    my wife s old ipad was dying after many years ...\n",
            "20    i love this thing   in fact  i am writing this...\n",
            "21    love my new ipad  size brightness and the long...\n",
            "22    dependiendo para lo que lo buscas va a funcion...\n",
            "23                                                     \n",
            "24    daughter loves it does everything she need has...\n",
            "25    this ipad seems to work fantastically  it was ...\n",
            "26    love it   the screen size is perfect  so light...\n",
            "27    from my use of an ipad mini  i expected that t...\n",
            "28    after my old ipad bit the dust it took me only...\n",
            "29    i am not disappointed  i bought one for my dau...\n",
            "30    this was a great priced replacement for my ipa...\n",
            "Name: 0, dtype: object\n"
          ]
        }
      ],
      "source": [
        "amaz_reviews = amaz_reviews.apply(standardize_data)\n",
        "print(amaz_reviews)"
      ]
    },
    {
      "cell_type": "code",
      "execution_count": null,
      "metadata": {
        "id": "pmh1BcsxYKu4",
        "colab": {
          "base_uri": "https://localhost:8080/"
        },
        "outputId": "f55170a7-019d-4cfc-e492-b210ff83ca44"
      },
      "outputs": [
        {
          "output_type": "stream",
          "name": "stdout",
          "text": [
            "  (0, 4828)\t0.37971273095412844\n",
            "  (0, 3944)\t0.25779690462071597\n",
            "  (0, 3385)\t0.25283240977035043\n",
            "  (0, 3134)\t0.4140467082796422\n",
            "  (0, 2699)\t0.3127906530342776\n",
            "  (0, 2454)\t0.15367153813326967\n",
            "  (0, 1995)\t0.16310693045835042\n",
            "  (0, 1987)\t0.4379193285430498\n",
            "  (0, 1963)\t0.1582322437093429\n",
            "  (0, 1674)\t0.2898034197714095\n",
            "  (0, 1421)\t0.24810751887642887\n",
            "  (0, 542)\t0.20878013443653148\n",
            "  (1, 4796)\t0.13149232226323057\n",
            "  (1, 4770)\t0.11225719966743397\n",
            "  (1, 4732)\t0.08267642963030535\n",
            "  (1, 4725)\t0.1129238104116413\n",
            "  (1, 4564)\t0.11129607484887262\n",
            "  (1, 4252)\t0.13247077300989238\n",
            "  (1, 4145)\t0.10275149178923138\n",
            "  (1, 4090)\t0.11847840932484906\n",
            "  (1, 3832)\t0.06801534825441634\n",
            "  (1, 3634)\t0.22604389346224502\n",
            "  (1, 3494)\t0.07382125011149554\n",
            "  (1, 3454)\t0.1103834311947932\n",
            "  (1, 3289)\t0.09987863322218579\n",
            "  :\t:\n",
            "  (29, 1995)\t0.09205691991723379\n",
            "  (29, 1912)\t0.22977242589589908\n",
            "  (29, 1277)\t0.14234127544037253\n",
            "  (29, 1251)\t0.19409630928366842\n",
            "  (29, 1229)\t0.3615621880370924\n",
            "  (29, 1125)\t0.16962247718041693\n",
            "  (29, 542)\t0.19951148901469895\n",
            "  (29, 268)\t0.20007083828442698\n",
            "  (29, 159)\t0.23974490808090348\n",
            "  (29, 84)\t0.208638505237795\n",
            "  (29, 82)\t0.25405983382482444\n",
            "  (29, 6)\t0.2596110447197771\n",
            "  (29, 2)\t0.15689563624328343\n",
            "  (30, 3671)\t0.2941352757560253\n",
            "  (30, 3386)\t0.3562251976621153\n",
            "  (30, 3385)\t0.2257399043572377\n",
            "  (30, 3277)\t0.2649408786206552\n",
            "  (30, 3190)\t0.3545562292414042\n",
            "  (30, 3066)\t0.2013524912531339\n",
            "  (30, 2454)\t0.13720471339945264\n",
            "  (30, 1995)\t0.34751377363456404\n",
            "  (30, 1912)\t0.36348749704681643\n",
            "  (30, 1890)\t0.29361735935290406\n",
            "  (30, 1683)\t0.24974336403323166\n",
            "  (30, 413)\t0.2808663574534341\n"
          ]
        }
      ],
      "source": [
        "amaz_reviews_embed = emb.transform(amaz_reviews)\n",
        "print(amaz_reviews_embed)"
      ]
    },
    {
      "cell_type": "code",
      "execution_count": null,
      "metadata": {
        "id": "rKJtXnDPZzMe"
      },
      "outputs": [],
      "source": [
        "model = joblib.load(\"saved_model.pkl\")\n",
        "result = model.predict(amaz_reviews_embed)"
      ]
    },
    {
      "cell_type": "code",
      "execution_count": null,
      "metadata": {
        "id": "qp7rCEAQZ780",
        "colab": {
          "base_uri": "https://localhost:8080/"
        },
        "outputId": "7e62592e-ef45-441f-fafc-9f288a055c6c"
      },
      "outputs": [
        {
          "output_type": "stream",
          "name": "stdout",
          "text": [
            "[0 0 0 0 0 0 0 0 0 0 0 0 0 0 0 1 1 0 0 0 1 0 0 1 0 0 0 0 0 0 0]\n",
            "No of bad and neutral comments =  4\n",
            "No of good comments =  27\n",
            "Good! You can buy it!\n"
          ]
        }
      ],
      "source": [
        "print(result)\n",
        "print(analyze(result))"
      ]
    }
  ],
  "metadata": {
    "colab": {
      "provenance": [],
      "include_colab_link": true
    },
    "kernelspec": {
      "display_name": "Python 3",
      "name": "python3"
    },
    "language_info": {
      "name": "python"
    }
  },
  "nbformat": 4,
  "nbformat_minor": 0
}